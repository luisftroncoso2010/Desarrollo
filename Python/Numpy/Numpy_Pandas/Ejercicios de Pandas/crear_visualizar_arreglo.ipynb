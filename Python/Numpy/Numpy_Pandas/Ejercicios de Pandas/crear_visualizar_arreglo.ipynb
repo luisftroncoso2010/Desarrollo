{
 "cells": [
  {
   "cell_type": "code",
   "execution_count": 1,
   "metadata": {},
   "outputs": [],
   "source": [
    "import pandas as pd"
   ]
  },
  {
   "cell_type": "markdown",
   "metadata": {},
   "source": [
    "Crear y visializar un arreglo unidimensional como una estructura Series"
   ]
  },
  {
   "cell_type": "code",
   "execution_count": 2,
   "metadata": {},
   "outputs": [
    {
     "data": {
      "text/plain": [
       "0     2\n",
       "1     3\n",
       "2     5\n",
       "3     7\n",
       "4    11\n",
       "dtype: int64"
      ]
     },
     "execution_count": 2,
     "metadata": {},
     "output_type": "execute_result"
    }
   ],
   "source": [
    "datos = [2, 3, 5, 7, 11]  # Arreglo\n",
    "serie = pd.Series(datos)  # Creamos la serie a partir de un arreglo\n",
    "serie"
   ]
  },
  {
   "cell_type": "code",
   "execution_count": 3,
   "metadata": {},
   "outputs": [
    {
     "data": {
      "text/plain": [
       "5"
      ]
     },
     "execution_count": 3,
     "metadata": {},
     "output_type": "execute_result"
    }
   ],
   "source": [
    "serie.size # Buscamos el tamaño de la serie"
   ]
  },
  {
   "cell_type": "code",
   "execution_count": 4,
   "metadata": {},
   "outputs": [
    {
     "data": {
      "text/plain": [
       "count     5.000000\n",
       "mean      5.600000\n",
       "std       3.577709\n",
       "min       2.000000\n",
       "25%       3.000000\n",
       "50%       5.000000\n",
       "75%       7.000000\n",
       "max      11.000000\n",
       "dtype: float64"
      ]
     },
     "execution_count": 4,
     "metadata": {},
     "output_type": "execute_result"
    }
   ],
   "source": [
    "serie.describe()  # Estadisticas basicas de una arreglo"
   ]
  },
  {
   "cell_type": "markdown",
   "metadata": {},
   "source": [
    "Convertir un Objeto Series a una lista"
   ]
  },
  {
   "cell_type": "code",
   "execution_count": 5,
   "metadata": {},
   "outputs": [
    {
     "name": "stdout",
     "output_type": "stream",
     "text": [
      "<class 'list'>\n",
      "<class 'pandas.core.series.Series'>\n"
     ]
    }
   ],
   "source": [
    "datosDos = [2, 3, 5, 7, 11]  # Arreglo\n",
    "serieDos = pd.Series(datosDos) # Pasamos el arreglo y se crea el objeto tipo serie\n",
    "print(type(datosDos)) # Miramos el tipo de objeto\n",
    "print(type(serieDos)) # Miramos el tipo de objeto"
   ]
  },
  {
   "cell_type": "code",
   "execution_count": 6,
   "metadata": {},
   "outputs": [
    {
     "name": "stdout",
     "output_type": "stream",
     "text": [
      "<class 'list'>\n"
     ]
    }
   ],
   "source": [
    "listaDos = serieDos.to_list()  # Convertimos el objeto de tipo Series a Lista\n",
    "print(type(listaDos))  # Convertido el objeto tipo serie a lista, pasamos a imprimirlo"
   ]
  },
  {
   "cell_type": "markdown",
   "metadata": {},
   "source": [
    "Realizar operaciones Aritméticas Básicas entre Objetos Serie"
   ]
  },
  {
   "cell_type": "code",
   "execution_count": 7,
   "metadata": {},
   "outputs": [
    {
     "name": "stdout",
     "output_type": "stream",
     "text": [
      "\tTipo de dato del Objeto serie tres: <class 'pandas.core.series.Series'>\n",
      "\tObjeto serie cuatro: <class 'pandas.core.series.Series'>\n",
      "* Suma de los objetos serie:\n",
      "0     7\n",
      "1     9\n",
      "2    11\n",
      "3    13\n",
      "4    15\n",
      "dtype: int64\n",
      "* Resta de los objetos serie:\n",
      "0   -5\n",
      "1   -5\n",
      "2   -5\n",
      "3   -5\n",
      "4   -5\n",
      "dtype: int64\n",
      "* Multiplicación de los objetos serie:\n",
      "0     6\n",
      "1    14\n",
      "2    24\n",
      "3    36\n",
      "4    50\n",
      "dtype: int64\n",
      "División de los objetos serie:\n",
      "0    0.166667\n",
      "1    0.285714\n",
      "2    0.375000\n",
      "3    0.444444\n",
      "4    0.500000\n",
      "dtype: float64\n"
     ]
    }
   ],
   "source": [
    "# Creamos lo objetos para hacer la operaciones\n",
    "serieTres = pd.Series([1, 2, 3, 4, 5])\n",
    "serieCuatro = pd.Series([6, 7, 8, 9, 10])\n",
    "\n",
    "# imprimimos el tipo de datos\n",
    "print(f'\\tTipo de dato del Objeto serie tres: {type(serieTres)}\\n\\tObjeto serie cuatro: {type(serieCuatro)}')\n",
    "\n",
    "# Sumamos los objetos de tipo Serie. Operación de suma\n",
    "print(f'* Suma de los objetos serie:\\n{serieTres + serieCuatro}')\n",
    "\n",
    "# Restamos los objetos de tipo Serie. Operación de resta\n",
    "print(f'* Resta de los objetos serie:\\n{serieTres - serieCuatro}')\n",
    "\n",
    "# Multiplicación los objetos de tipo Serie. Operación de resta\n",
    "print(f'* Multiplicación de los objetos serie:\\n{serieTres * serieCuatro}')\n",
    "\n",
    "# División los objetos de tipo Serie. Operación de resta\n",
    "print(f'División de los objetos serie:\\n{serieTres / serieCuatro}')"
   ]
  },
  {
   "cell_type": "markdown",
   "metadata": {},
   "source": [
    "Usar Operadores Relacionales para Comprar Objetos Series"
   ]
  },
  {
   "cell_type": "code",
   "execution_count": 8,
   "metadata": {},
   "outputs": [
    {
     "name": "stdout",
     "output_type": "stream",
     "text": [
      "0    1\n",
      "1    2\n",
      "2    3\n",
      "3    4\n",
      "4    5\n",
      "5    7\n",
      "dtype: int64\n",
      "0    13\n",
      "1    11\n",
      "2     5\n",
      "3     3\n",
      "4     7\n",
      "5     5\n",
      "dtype: int64\n"
     ]
    }
   ],
   "source": [
    "serieCinco = pd.Series([1, 2, 3, 4, 5, 7])\n",
    "serieSeis = pd.Series([13, 11, 5, 3, 7, 5])\n",
    "print(serieCinco)\n",
    "print(serieSeis)"
   ]
  },
  {
   "cell_type": "code",
   "execution_count": 9,
   "metadata": {},
   "outputs": [
    {
     "data": {
      "text/plain": [
       "0     True\n",
       "1     True\n",
       "2     True\n",
       "3    False\n",
       "4     True\n",
       "5    False\n",
       "dtype: bool"
      ]
     },
     "execution_count": 9,
     "metadata": {},
     "output_type": "execute_result"
    }
   ],
   "source": [
    "# Comparamos valores de las series.\n",
    "serieCinco < serieSeis"
   ]
  },
  {
   "cell_type": "code",
   "execution_count": 10,
   "metadata": {},
   "outputs": [
    {
     "data": {
      "text/plain": [
       "0    False\n",
       "1    False\n",
       "2    False\n",
       "3     True\n",
       "4    False\n",
       "5     True\n",
       "dtype: bool"
      ]
     },
     "execution_count": 10,
     "metadata": {},
     "output_type": "execute_result"
    }
   ],
   "source": [
    "# Comparamos valores de las series.\n",
    "serieCinco > serieSeis"
   ]
  },
  {
   "cell_type": "code",
   "execution_count": 11,
   "metadata": {},
   "outputs": [
    {
     "data": {
      "text/plain": [
       "0    False\n",
       "1    False\n",
       "2    False\n",
       "3    False\n",
       "4    False\n",
       "5    False\n",
       "dtype: bool"
      ]
     },
     "execution_count": 11,
     "metadata": {},
     "output_type": "execute_result"
    }
   ],
   "source": [
    "# Comparamos valores de las series.\n",
    "serieCinco == serieSeis"
   ]
  },
  {
   "cell_type": "markdown",
   "metadata": {},
   "source": [
    "Convertir un diccionario de python en objeto serie"
   ]
  },
  {
   "cell_type": "code",
   "execution_count": 12,
   "metadata": {},
   "outputs": [
    {
     "name": "stdout",
     "output_type": "stream",
     "text": [
      "a    10\n",
      "b    20\n",
      "c    30\n",
      "d    40\n",
      "dtype: int64\n",
      "<class 'pandas.core.series.Series'>\n"
     ]
    }
   ],
   "source": [
    "# Creamos el objeto de tipo diccionario\n",
    "dicDatos = {'a': 10, 'b': 20, 'c': 30, 'd': 40}\n",
    "\n",
    "# Creamos el objeto serie apartir del objeto tipo diccionario\n",
    "serieDic = pd.Series(dicDatos)\n",
    "\n",
    "# Imprimimos la conversion de tipo serie\n",
    "print(serieDic)\n",
    "\n",
    "# El tipo de objeto\n",
    "print(type(serieDic))\n",
    " "
   ]
  },
  {
   "cell_type": "markdown",
   "metadata": {},
   "source": [
    "Convertir un Arreglo NumPy en un Objeto Series"
   ]
  },
  {
   "cell_type": "code",
   "execution_count": 19,
   "metadata": {},
   "outputs": [],
   "source": [
    "import numpy as np"
   ]
  },
  {
   "cell_type": "code",
   "execution_count": 20,
   "metadata": {},
   "outputs": [
    {
     "name": "stdout",
     "output_type": "stream",
     "text": [
      "<class 'numpy.ndarray'>\n",
      "0     2\n",
      "1     3\n",
      "2     5\n",
      "3     7\n",
      "4    11\n",
      "dtype: int32\n",
      "<class 'pandas.core.series.Series'>\n"
     ]
    }
   ],
   "source": [
    "# Arreglo numpy\n",
    "arregloNP = np.array([2, 3, 5, 7, 11])\n",
    "\n",
    "# Imprimimos el arreglo de tipo numpy\n",
    "print(type(arregloNP))\n",
    "\n",
    "# PAsamos e larreglo de tipo numpy a pandas series\n",
    "serieNumpy = pd.Series(arregloNP)\n",
    "# Imprimimos el arreglo de tipo serie\n",
    "print(serieNumpy)\n",
    "# Validamos el tipo\n",
    "print(type(serieNumpy))"
   ]
  },
  {
   "cell_type": "markdown",
   "metadata": {},
   "source": [
    "Cambiar el tipo de dato de un objeto Series"
   ]
  },
  {
   "cell_type": "code",
   "execution_count": 21,
   "metadata": {},
   "outputs": [
    {
     "name": "stdout",
     "output_type": "stream",
     "text": [
      "<class 'pandas.core.series.Series'>\n",
      "0       100\n",
      "1       200\n",
      "2    python\n",
      "3    300.15\n",
      "4     500.8\n",
      "dtype: object\n"
     ]
    },
    {
     "data": {
      "text/plain": [
       "0    100.00\n",
       "1    200.00\n",
       "2       NaN\n",
       "3    300.15\n",
       "4    500.80\n",
       "dtype: float64"
      ]
     },
     "execution_count": 21,
     "metadata": {},
     "output_type": "execute_result"
    }
   ],
   "source": [
    "# Creamos el objeto de tipo series, con valores strings\n",
    "datosTres = pd.Series(['100', '200', 'python', '300.15', '500.8'])\n",
    "\n",
    "# Imprimimos el tipo de serie\n",
    "print(type(datosTres))\n",
    "\n",
    "# Imprimos la serie\n",
    "print(datosTres)\n",
    "\n",
    "# Convertimos los datos a tipos de datos float\n",
    "conversion = pd.to_numeric(datosTres, errors='coerce' )\n",
    "conversion"
   ]
  },
  {
   "cell_type": "markdown",
   "metadata": {},
   "source": [
    "Obtener una Columna de un Objeto DataFrame como un Objeto Series"
   ]
  },
  {
   "cell_type": "code",
   "execution_count": 31,
   "metadata": {},
   "outputs": [],
   "source": [
    "# Creamos el objeto de tipo diccionario\n",
    "dicDatosDict = {'a': [10, 20, 30, 40 ], 'b': [20, 50, 60, 70], 'c': [30, 70, 80, 90], 'd': [40, 70, 80, 70]}"
   ]
  },
  {
   "cell_type": "code",
   "execution_count": 37,
   "metadata": {},
   "outputs": [
    {
     "name": "stdout",
     "output_type": "stream",
     "text": [
      "    a   b   c   d\n",
      "0  10  20  30  40\n",
      "1  20  50  70  70\n",
      "2  30  60  80  80\n",
      "3  40  70  90  70\n",
      "<class 'pandas.core.frame.DataFrame'>\n"
     ]
    },
    {
     "data": {
      "text/plain": [
       "0    30\n",
       "1    70\n",
       "2    80\n",
       "3    90\n",
       "Name: c, dtype: int64"
      ]
     },
     "execution_count": 37,
     "metadata": {},
     "output_type": "execute_result"
    }
   ],
   "source": [
    "df = pd.DataFrame(dicDatosDict)  # Creamos el data Frame\n",
    "print(df)  # Mostramos el dataFrame\n",
    "print(type(df))  # Mostramos el tipo de dato\n",
    "\n",
    "# Msotramos la columna buscada\n",
    "df['c']\n"
   ]
  },
  {
   "cell_type": "code",
   "execution_count": null,
   "metadata": {},
   "outputs": [],
   "source": []
  }
 ],
 "metadata": {
  "kernelspec": {
   "display_name": "Python 3",
   "language": "python",
   "name": "python3"
  },
  "language_info": {
   "codemirror_mode": {
    "name": "ipython",
    "version": 3
   },
   "file_extension": ".py",
   "mimetype": "text/x-python",
   "name": "python",
   "nbconvert_exporter": "python",
   "pygments_lexer": "ipython3",
   "version": "3.11.3"
  }
 },
 "nbformat": 4,
 "nbformat_minor": 2
}
