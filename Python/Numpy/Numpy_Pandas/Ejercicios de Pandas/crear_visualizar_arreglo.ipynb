{
 "cells": [
  {
   "cell_type": "code",
   "execution_count": 1,
   "metadata": {},
   "outputs": [],
   "source": [
    "import pandas as pd"
   ]
  },
  {
   "cell_type": "markdown",
   "metadata": {},
   "source": [
    "Crear y visializar un arreglo unidimensional como una estructura Series"
   ]
  },
  {
   "cell_type": "code",
   "execution_count": 6,
   "metadata": {},
   "outputs": [
    {
     "data": {
      "text/plain": [
       "0     2\n",
       "1     3\n",
       "2     5\n",
       "3     7\n",
       "4    11\n",
       "dtype: int64"
      ]
     },
     "execution_count": 6,
     "metadata": {},
     "output_type": "execute_result"
    }
   ],
   "source": [
    "datos = [2, 3, 5, 7, 11]  # Arreglo\n",
    "serie = pd.Series(datos)  # Creamos la serie a partir de un arreglo\n",
    "serie"
   ]
  },
  {
   "cell_type": "code",
   "execution_count": 8,
   "metadata": {},
   "outputs": [
    {
     "data": {
      "text/plain": [
       "5"
      ]
     },
     "execution_count": 8,
     "metadata": {},
     "output_type": "execute_result"
    }
   ],
   "source": [
    "serie.size # Buscamos el tamaño de la serie"
   ]
  },
  {
   "cell_type": "code",
   "execution_count": 10,
   "metadata": {},
   "outputs": [
    {
     "data": {
      "text/plain": [
       "count     5.000000\n",
       "mean      5.600000\n",
       "std       3.577709\n",
       "min       2.000000\n",
       "25%       3.000000\n",
       "50%       5.000000\n",
       "75%       7.000000\n",
       "max      11.000000\n",
       "dtype: float64"
      ]
     },
     "execution_count": 10,
     "metadata": {},
     "output_type": "execute_result"
    }
   ],
   "source": [
    "serie.describe()  # Estadisticas basicas de una arreglo"
   ]
  },
  {
   "cell_type": "markdown",
   "metadata": {},
   "source": [
    "Convertir un Objeto Series a una lista"
   ]
  },
  {
   "cell_type": "code",
   "execution_count": 14,
   "metadata": {},
   "outputs": [
    {
     "name": "stdout",
     "output_type": "stream",
     "text": [
      "<class 'list'>\n",
      "<class 'pandas.core.series.Series'>\n"
     ]
    }
   ],
   "source": [
    "datosDos = [2, 3, 5, 7, 11]  # Arreglo\n",
    "serieDos = pd.Series(datosDos) # Pasamos el arreglo y se crea el objeto tipo serie\n",
    "print(type(datosDos)) # Miramos el tipo de objeto\n",
    "print(type(serieDos)) # Miramos el tipo de objeto"
   ]
  },
  {
   "cell_type": "code",
   "execution_count": 18,
   "metadata": {},
   "outputs": [
    {
     "name": "stdout",
     "output_type": "stream",
     "text": [
      "<class 'list'>\n"
     ]
    }
   ],
   "source": [
    "listaDos = serieDos.to_list()  # Convertimos el objeto de tipo Series a Lista\n",
    "print(type(listaDos))  # Convertido el objeto tipo serie a lista, pasamos a imprimirlo"
   ]
  },
  {
   "cell_type": "markdown",
   "metadata": {},
   "source": [
    "Realizar operaciones Aritméticas Básicas entre Objetos Serie"
   ]
  },
  {
   "cell_type": "code",
   "execution_count": 35,
   "metadata": {},
   "outputs": [
    {
     "name": "stdout",
     "output_type": "stream",
     "text": [
      "\tTipo de dato del Objeto serie tres: <class 'pandas.core.series.Series'>\n",
      "\tObjeto serie cuatro: <class 'pandas.core.series.Series'>\n",
      "* Suma de los objetos serie:\n",
      "0     7\n",
      "1     9\n",
      "2    11\n",
      "3    13\n",
      "4    15\n",
      "dtype: int64\n",
      "* Resta de los objetos serie:\n",
      "0   -5\n",
      "1   -5\n",
      "2   -5\n",
      "3   -5\n",
      "4   -5\n",
      "dtype: int64\n",
      "* Multiplicación de los objetos serie:\n",
      "0     6\n",
      "1    14\n",
      "2    24\n",
      "3    36\n",
      "4    50\n",
      "dtype: int64\n",
      "División de los objetos serie:\n",
      "0    0.166667\n",
      "1    0.285714\n",
      "2    0.375000\n",
      "3    0.444444\n",
      "4    0.500000\n",
      "dtype: float64\n"
     ]
    }
   ],
   "source": [
    "# Creamos lo objetos para hacer la operaciones\n",
    "serieTres = pd.Series([1, 2, 3, 4, 5])\n",
    "serieCuatro = pd.Series([6, 7, 8, 9, 10])\n",
    "\n",
    "# imprimimos el tipo de datos\n",
    "print(f'\\tTipo de dato del Objeto serie tres: {type(serieTres)}\\n\\tObjeto serie cuatro: {type(serieCuatro)}')\n",
    "\n",
    "# Sumamos los objetos de tipo Serie. Operación de suma\n",
    "print(f'* Suma de los objetos serie:\\n{serieTres + serieCuatro}')\n",
    "\n",
    "# Restamos los objetos de tipo Serie. Operación de resta\n",
    "print(f'* Resta de los objetos serie:\\n{serieTres - serieCuatro}')\n",
    "\n",
    "# Multiplicación los objetos de tipo Serie. Operación de resta\n",
    "print(f'* Multiplicación de los objetos serie:\\n{serieTres * serieCuatro}')\n",
    "\n",
    "# División los objetos de tipo Serie. Operación de resta\n",
    "print(f'División de los objetos serie:\\n{serieTres / serieCuatro}')"
   ]
  },
  {
   "cell_type": "code",
   "execution_count": null,
   "metadata": {},
   "outputs": [],
   "source": []
  }
 ],
 "metadata": {
  "kernelspec": {
   "display_name": "Python 3",
   "language": "python",
   "name": "python3"
  },
  "language_info": {
   "codemirror_mode": {
    "name": "ipython",
    "version": 3
   },
   "file_extension": ".py",
   "mimetype": "text/x-python",
   "name": "python",
   "nbconvert_exporter": "python",
   "pygments_lexer": "ipython3",
   "version": "3.11.3"
  }
 },
 "nbformat": 4,
 "nbformat_minor": 2
}
