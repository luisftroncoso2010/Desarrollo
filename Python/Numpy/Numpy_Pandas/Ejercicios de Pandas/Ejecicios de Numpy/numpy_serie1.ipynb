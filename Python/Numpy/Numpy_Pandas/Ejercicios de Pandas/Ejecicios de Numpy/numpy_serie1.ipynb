{
 "cells": [
  {
   "cell_type": "code",
   "execution_count": 1,
   "metadata": {},
   "outputs": [],
   "source": [
    "import numpy as np "
   ]
  },
  {
   "cell_type": "markdown",
   "metadata": {},
   "source": [
    "Obtener Versión y Configuración de Numpy"
   ]
  },
  {
   "cell_type": "code",
   "execution_count": 2,
   "metadata": {},
   "outputs": [
    {
     "data": {
      "text/plain": [
       "'1.23.5'"
      ]
     },
     "execution_count": 2,
     "metadata": {},
     "output_type": "execute_result"
    }
   ],
   "source": [
    "np.__version__"
   ]
  },
  {
   "cell_type": "markdown",
   "metadata": {},
   "source": [
    "Obtener Información de la Función add de Numpy"
   ]
  },
  {
   "cell_type": "code",
   "execution_count": 4,
   "metadata": {},
   "outputs": [
    {
     "name": "stdout",
     "output_type": "stream",
     "text": [
      "add(x1, x2, /, out=None, *, where=True, casting='same_kind', order='K', dtype=None, subok=True[, signature, extobj])\n",
      "\n",
      "Add arguments element-wise.\n",
      "\n",
      "Parameters\n",
      "----------\n",
      "x1, x2 : array_like\n",
      "    The arrays to be added.\n",
      "    If ``x1.shape != x2.shape``, they must be broadcastable to a common\n",
      "    shape (which becomes the shape of the output).\n",
      "out : ndarray, None, or tuple of ndarray and None, optional\n",
      "    A location into which the result is stored. If provided, it must have\n",
      "    a shape that the inputs broadcast to. If not provided or None,\n",
      "    a freshly-allocated array is returned. A tuple (possible only as a\n",
      "    keyword argument) must have length equal to the number of outputs.\n",
      "where : array_like, optional\n",
      "    This condition is broadcast over the input. At locations where the\n",
      "    condition is True, the `out` array will be set to the ufunc result.\n",
      "    Elsewhere, the `out` array will retain its original value.\n",
      "    Note that if an uninitialized `out` array is created via the default\n",
      "    ``out=None``, locations within it where the condition is False will\n",
      "    remain uninitialized.\n",
      "**kwargs\n",
      "    For other keyword-only arguments, see the\n",
      "    :ref:`ufunc docs <ufuncs.kwargs>`.\n",
      "\n",
      "Returns\n",
      "-------\n",
      "add : ndarray or scalar\n",
      "    The sum of `x1` and `x2`, element-wise.\n",
      "    This is a scalar if both `x1` and `x2` are scalars.\n",
      "\n",
      "Notes\n",
      "-----\n",
      "Equivalent to `x1` + `x2` in terms of array broadcasting.\n",
      "\n",
      "Examples\n",
      "--------\n",
      ">>> np.add(1.0, 4.0)\n",
      "5.0\n",
      ">>> x1 = np.arange(9.0).reshape((3, 3))\n",
      ">>> x2 = np.arange(3.0)\n",
      ">>> np.add(x1, x2)\n",
      "array([[  0.,   2.,   4.],\n",
      "       [  3.,   5.,   7.],\n",
      "       [  6.,   8.,  10.]])\n",
      "\n",
      "The ``+`` operator can be used as a shorthand for ``np.add`` on ndarrays.\n",
      "\n",
      ">>> x1 = np.arange(9.0).reshape((3, 3))\n",
      ">>> x2 = np.arange(3.0)\n",
      ">>> x1 + x2\n",
      "array([[ 0.,  2.,  4.],\n",
      "       [ 3.,  5.,  7.],\n",
      "       [ 6.,  8., 10.]])\n"
     ]
    }
   ],
   "source": [
    "np.info(np.add)  # Obtenemos informacion de la funcion add de numpy"
   ]
  },
  {
   "cell_type": "markdown",
   "metadata": {},
   "source": [
    "Comprobar si un Arreglo tiene Elementos Igual a Cero"
   ]
  },
  {
   "cell_type": "code",
   "execution_count": 12,
   "metadata": {},
   "outputs": [
    {
     "data": {
      "text/plain": [
       "False"
      ]
     },
     "execution_count": 12,
     "metadata": {},
     "output_type": "execute_result"
    }
   ],
   "source": [
    "# Validamos si el arreglo tiene almenos un elemento igual a cero, retorna false y si no hay es true\n",
    "arr = [1, 2, 3, 4, 0]  \n",
    "np.all(arr)"
   ]
  },
  {
   "cell_type": "markdown",
   "metadata": {},
   "source": [
    " Comprobar si en un Arreglo Existe al menos un Elemento Distinto de Cero"
   ]
  },
  {
   "cell_type": "code",
   "execution_count": 25,
   "metadata": {},
   "outputs": [
    {
     "name": "stdout",
     "output_type": "stream",
     "text": [
      "[1 2 3 4 5 0]\n",
      "True\n",
      "[0 0 0]\n",
      "False\n"
     ]
    }
   ],
   "source": [
    "#Arreglo\n",
    "a = np.array([1, 2, 3, 4, 5, 0])\n",
    "print(a)\n",
    "\n",
    "# Validamos si almenos un elemento es distinto de cero. Si lo hay devuelde True y False Si no es asi\n",
    "print(np.any(a))\n",
    "\n",
    "# Validamos si al menos un elemento es distinto de 0, devuelve Flase, por que nunguno de ellos es distinto de 0\n",
    "b = np.array([0, 0, 0])  # Todos son iguales a cero\n",
    "\n",
    "print(b)\n",
    "print(np.any(b))"
   ]
  },
  {
   "cell_type": "markdown",
   "metadata": {},
   "source": [
    "Comprobar si los Elementos de un Arreglo son Finitos"
   ]
  },
  {
   "cell_type": "code",
   "execution_count": 32,
   "metadata": {},
   "outputs": [
    {
     "name": "stdout",
     "output_type": "stream",
     "text": [
      "[  1.   2.   3.   4.   5. -inf]\n"
     ]
    },
    {
     "data": {
      "text/plain": [
       "array([ True,  True,  True,  True,  True, False])"
      ]
     },
     "execution_count": 32,
     "metadata": {},
     "output_type": "execute_result"
    }
   ],
   "source": [
    "# validamos si estos valores son finitos. Es decir son elementos contables y elementos definidos.\n",
    "c = np.array([1, 2, 3, 4, 5, -np.inf])\n",
    "print(c)\n",
    "np.isfinite(c)"
   ]
  },
  {
   "cell_type": "markdown",
   "metadata": {},
   "source": [
    "Comprobar si los Elementos de un Arreglo son Infinitos"
   ]
  },
  {
   "cell_type": "code",
   "execution_count": 38,
   "metadata": {},
   "outputs": [
    {
     "name": "stdout",
     "output_type": "stream",
     "text": [
      "[  1.   2.   3.   4.   5. -inf]\n"
     ]
    },
    {
     "data": {
      "text/plain": [
       "array([False, False, False, False, False,  True])"
      ]
     },
     "execution_count": 38,
     "metadata": {},
     "output_type": "execute_result"
    }
   ],
   "source": [
    "# Arreglo.\n",
    "d = np.array([1, 2, 3, 4, 5, -np.inf])\n",
    "print(d)\n",
    "\n",
    "# Validamos si alguno de los elementos son infinitos, devuelve true de lo contrario devuelve false.\n",
    "np.isinf(d)"
   ]
  },
  {
   "cell_type": "markdown",
   "metadata": {},
   "source": [
    "Comprobar si los Elementos de un Arreglo NumPy son Nulos"
   ]
  },
  {
   "cell_type": "code",
   "execution_count": 41,
   "metadata": {},
   "outputs": [
    {
     "name": "stdout",
     "output_type": "stream",
     "text": [
      "[  1.   2.   3.   4.   5. -inf  nan]\n"
     ]
    },
    {
     "data": {
      "text/plain": [
       "array([False, False, False, False, False, False,  True])"
      ]
     },
     "execution_count": 41,
     "metadata": {},
     "output_type": "execute_result"
    }
   ],
   "source": [
    "e = np.array([1, 2, 3, 4, 5, -np.inf, np.nan])\n",
    "\n",
    "# Mostramos el array\n",
    "print(e)\n",
    "\n",
    "# Validamos si el arreglo tiene valores NaN. Devuelve True si alguno de los elementos son NaN. \n",
    "np.isnan(e)\n"
   ]
  },
  {
   "cell_type": "markdown",
   "metadata": {},
   "source": [
    "Comprobar si cada Elemento de un Arreglo es un Número Real, Complejo, o Escalar"
   ]
  },
  {
   "cell_type": "code",
   "execution_count": 49,
   "metadata": {},
   "outputs": [
    {
     "name": "stdout",
     "output_type": "stream",
     "text": [
      "[ 1. +0.j  2. +0.j  3. +0.j  4. +0.j  5. +0.j -inf+0.j  nan+0.j  0. +2.j\n",
      "  5.5+0.j]\n",
      "[False False False False False False False  True False]\n",
      "[ True  True  True  True  True  True  True False  True]\n",
      "False\n"
     ]
    }
   ],
   "source": [
    "f = np.array([1, 2, 3, 4, 5, -np.inf, np.nan, 0.+2.j, 5.5])\n",
    "\n",
    "# Msotrarr arreglo\n",
    "print(f)\n",
    "\n",
    "#Validar si es un elemento de tipo complejo. Devuelve True si hay un numero ocmplejo. De lo contrario devuelve False\n",
    "print(np.iscomplex(f))\n",
    "\n",
    "# validamos si es un numero real. Devuelve True si hay numeros reales y false si hay numeros complejos\n",
    "print(np.isreal(f))\n",
    "\n",
    "# Validamos si hay numeros escalar. No se le puede pasar un arreglo de valores, debe de ser un numero solamente. De lo contrario devuelve false\n",
    "print(np.isscalar(f))"
   ]
  },
  {
   "cell_type": "markdown",
   "metadata": {},
   "source": [
    "Comprobar si Dos Arreglos son Iguales Bajo un Grado de Tolerancia"
   ]
  },
  {
   "cell_type": "code",
   "execution_count": 64,
   "metadata": {},
   "outputs": [
    {
     "name": "stdout",
     "output_type": "stream",
     "text": [
      "True\n"
     ]
    }
   ],
   "source": [
    "# Toma los valores por iguald y deben de ser iguales al compararlos\n",
    "g = np.array([1, 2, 3, 4, 5, 0, np.nan])\n",
    "h = np.array([1, 2, 3, 4, 5, 0, np.nan])\n",
    "\n",
    "print(np.allclose(g, h, equal_nan=True))  # Si le pasamos el tercer parametro que acepte los elementos NaN."
   ]
  },
  {
   "cell_type": "markdown",
   "metadata": {},
   "source": [
    "Aplicar Operadores Relacionales a Cada Elemento de Dos Arreglos"
   ]
  },
  {
   "cell_type": "code",
   "execution_count": 78,
   "metadata": {},
   "outputs": [
    {
     "name": "stdout",
     "output_type": "stream",
     "text": [
      "[ 1.  2.  3.  4.  5.  1. nan]\n",
      "[ 1.  2.  3.  4.  5.  0. nan]\n",
      "[False False False False False False False]\n",
      "[ True  True  True  True  True False False]\n",
      "[False False False False False  True False]\n"
     ]
    }
   ],
   "source": [
    "i = np.array([1, 2, 3, 4, 5, 1, np.nan])\n",
    "j = np.array([1, 2, 3, 4, 5, 0, np.nan])\n",
    "\n",
    "print(i)\n",
    "print(j)\n",
    "\n",
    "# Validamos si los arreglos tiene valores menores que el otro. Es decir el valor de i es o no mayor que uno de los valores j\n",
    "print(np.less(i, j))\n",
    "\n",
    "\n",
    "# Validamos los arreglos del primer elementos con los arreglos del segundo elemento son iguales. Los vcalos de tipos NaN no los toma\n",
    "print(np.less_equal(i, j))\n",
    "\n",
    "\n",
    "print(np.greater(i, j))\n",
    "\n",
    "#  "
   ]
  },
  {
   "cell_type": "code",
   "execution_count": null,
   "metadata": {},
   "outputs": [],
   "source": []
  }
 ],
 "metadata": {
  "kernelspec": {
   "display_name": "Python 3",
   "language": "python",
   "name": "python3"
  },
  "language_info": {
   "codemirror_mode": {
    "name": "ipython",
    "version": 3
   },
   "file_extension": ".py",
   "mimetype": "text/x-python",
   "name": "python",
   "nbconvert_exporter": "python",
   "pygments_lexer": "ipython3",
   "version": "3.11.3"
  }
 },
 "nbformat": 4,
 "nbformat_minor": 2
}
