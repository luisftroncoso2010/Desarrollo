{
 "cells": [
  {
   "cell_type": "code",
   "execution_count": 1,
   "metadata": {},
   "outputs": [],
   "source": [
    "import pandas as pd\n",
    "import numpy as np"
   ]
  },
  {
   "cell_type": "markdown",
   "metadata": {},
   "source": [
    "Convertir un Objeto Series con Múltiples Listas en un Único Objeto Series"
   ]
  },
  {
   "cell_type": "code",
   "execution_count": 8,
   "metadata": {},
   "outputs": [
    {
     "name": "stdout",
     "output_type": "stream",
     "text": [
      "0    [Colombia, Perú, Argentina]\n",
      "1             [Bolivia, Uruguay]\n",
      "2                        [Chile]\n",
      "dtype: object\n",
      "<class 'pandas.core.series.Series'>\n"
     ]
    }
   ],
   "source": [
    "datosLista = [['Colombia', 'Perú', 'Argentina'], ['Bolivia', 'Uruguay'], ['Chile']]\n",
    "serie = pd.Series(datosLista)\n",
    "print(serie)\n",
    "print(type(serie))"
   ]
  },
  {
   "cell_type": "code",
   "execution_count": 11,
   "metadata": {},
   "outputs": [
    {
     "data": {
      "text/plain": [
       "0     Colombia\n",
       "1         Perú\n",
       "2    Argentina\n",
       "3      Bolivia\n",
       "4      Uruguay\n",
       "5        Chile\n",
       "dtype: object"
      ]
     },
     "execution_count": 11,
     "metadata": {},
     "output_type": "execute_result"
    }
   ],
   "source": [
    "# toma el objeto serie lo cambia a stack para convertirlo en una sola\n",
    "# Linea y resetea la columnas\n",
    "objetoMúltiplesListas = serie.apply(pd.Series).stack().reset_index(drop=True)\n",
    "objetoMúltiplesListas"
   ]
  },
  {
   "cell_type": "code",
   "execution_count": 15,
   "metadata": {},
   "outputs": [
    {
     "name": "stdout",
     "output_type": "stream",
     "text": [
      "0     Colombia\n",
      "0         Perú\n",
      "0    Argentina\n",
      "1      Bolivia\n",
      "1      Uruguay\n",
      "2        Chile\n",
      "dtype: object\n",
      "<class 'pandas.core.series.Series'>\n"
     ]
    }
   ],
   "source": [
    "print(serie.explode())\n",
    "print(type(serie))"
   ]
  },
  {
   "cell_type": "markdown",
   "metadata": {},
   "source": [
    "Ordenar los Valores de un Objeto Series con el Método sort_values"
   ]
  },
  {
   "cell_type": "code",
   "execution_count": 21,
   "metadata": {},
   "outputs": [
    {
     "name": "stdout",
     "output_type": "stream",
     "text": [
      "<class 'list'>\n",
      "0       1.1\n",
      "1    Python\n",
      "2       0.5\n",
      "3    Pandas\n",
      "4       2.8\n",
      "dtype: object\n",
      "<class 'pandas.core.series.Series'>\n"
     ]
    }
   ],
   "source": [
    "datos = ['1.1', 'Python', '0.5', 'Pandas', '2.8']\n",
    "print(type(datos))\n",
    "serieDos = pd.Series(datos)\n",
    "print(serieDos)\n",
    "print(type(serieDos))"
   ]
  },
  {
   "cell_type": "code",
   "execution_count": 26,
   "metadata": {},
   "outputs": [
    {
     "data": {
      "text/plain": [
       "2       0.5\n",
       "0       1.1\n",
       "4       2.8\n",
       "3    Pandas\n",
       "1    Python\n",
       "dtype: object"
      ]
     },
     "execution_count": 26,
     "metadata": {},
     "output_type": "execute_result"
    }
   ],
   "source": [
    "serieDos.sort_values()"
   ]
  },
  {
   "cell_type": "markdown",
   "metadata": {},
   "source": [
    "Agregar Más Datos a un Objeto Series Existente"
   ]
  },
  {
   "cell_type": "code",
   "execution_count": 32,
   "metadata": {},
   "outputs": [
    {
     "name": "stdout",
     "output_type": "stream",
     "text": [
      "0        C#\n",
      "1    Python\n",
      "2      Java\n",
      "3    Pandas\n",
      "dtype: object\n",
      "0     React\n",
      "1    Nodejs\n",
      "dtype: object\n"
     ]
    }
   ],
   "source": [
    "datosDos = ['C#', 'Python', 'Java', 'Pandas']\n",
    "nuevosDatos = ['React', 'Nodejs']\n",
    "\n",
    "dfDos = pd.Series(datosDos)\n",
    "dfTres = pd.Series(nuevosDatos)\n",
    "\n",
    "print(dfDos)\n",
    "print(dfTres)\n"
   ]
  },
  {
   "cell_type": "code",
   "execution_count": 35,
   "metadata": {},
   "outputs": [
    {
     "data": {
      "text/plain": [
       "0        C#\n",
       "1    Python\n",
       "2      Java\n",
       "3    Pandas\n",
       "0     React\n",
       "1    Nodejs\n",
       "dtype: object"
      ]
     },
     "execution_count": 35,
     "metadata": {},
     "output_type": "execute_result"
    }
   ],
   "source": [
    "concatenacion = pd.concat([dfDos, dfTres])\n",
    "concatenacion"
   ]
  },
  {
   "cell_type": "markdown",
   "metadata": {},
   "source": [
    "Crear un Objeto Series a partir de un Filtro Aplicado a otro Objeto Series"
   ]
  },
  {
   "cell_type": "code",
   "execution_count": 52,
   "metadata": {},
   "outputs": [
    {
     "name": "stdout",
     "output_type": "stream",
     "text": [
      "0     1\n",
      "1     2\n",
      "2     4\n",
      "3     8\n",
      "4     4\n",
      "5    25\n",
      "6    90\n",
      "dtype: int64\n",
      "<class 'pandas.core.series.Series'>\n",
      "3     8\n",
      "5    25\n",
      "6    90\n",
      "dtype: int64\n",
      "<class 'pandas.core.series.Series'>\n"
     ]
    }
   ],
   "source": [
    "# creamos el objeto serie\n",
    "dfCuatro = pd.Series([ 1, 2, 4, 8, 4, 25, 90])\n",
    "\n",
    "# Imprimimos el objeto serie\n",
    "print(dfCuatro)\n",
    "# Imprimios el objeto serie\n",
    "print(type(dfCuatro))\n",
    "\n",
    "# Haemos la condicion\n",
    "condicion = dfCuatro[dfCuatro > 5]\n",
    "print(condicion)\n",
    "\n",
    "# Imprimimos el tipo de dato de la condici\n",
    "print(type(condicion))"
   ]
  },
  {
   "cell_type": "markdown",
   "metadata": {},
   "source": [
    "Cambiar el Orden de los Índices de un Objeto Series"
   ]
  },
  {
   "cell_type": "code",
   "execution_count": 84,
   "metadata": {},
   "outputs": [
    {
     "name": "stdout",
     "output_type": "stream",
     "text": [
      "A    1\n",
      "B    2\n",
      "C    4\n",
      "D    8\n",
      "dtype: int64\n"
     ]
    }
   ],
   "source": [
    "listaNumeros = [ 1, 2, 4, 8]\n",
    "indices = ['A', 'B', 'C', 'D']\n",
    "\n",
    "serieTres = pd.Series(data=listaNumeros, index=indices)\n",
    "print(serieTres)"
   ]
  },
  {
   "cell_type": "code",
   "execution_count": 87,
   "metadata": {},
   "outputs": [
    {
     "name": "stdout",
     "output_type": "stream",
     "text": [
      "B    2\n",
      "A    1\n",
      "D    8\n",
      "C    4\n",
      "dtype: int64\n"
     ]
    }
   ],
   "source": [
    "serieTres = serieTres.reindex(index=['B', 'A', 'D', 'C'])\n",
    "print(serieTres)\n",
    "# Nota: Se cambian el orden de los indices, pero su valor es el anterior"
   ]
  },
  {
   "cell_type": "markdown",
   "metadata": {},
   "source": [
    "Calcular la Desviación Estándar y el Promedio de un Objeto Series"
   ]
  },
  {
   "cell_type": "code",
   "execution_count": 94,
   "metadata": {},
   "outputs": [
    {
     "name": "stdout",
     "output_type": "stream",
     "text": [
      "32.387240285849195\n",
      "25.4\n"
     ]
    }
   ],
   "source": [
    "datosDos = [2, 4, 5, 6, 7, 9, 20, 41, 60, 100]\n",
    "serieCautro = pd.Series(datosDos)\n",
    "serieCautro\n",
    "\n",
    "# Desviacion estandar\n",
    "print(serieCautro.std())\n",
    "\n",
    "# Calculamos la media\n",
    "print(serieCautro.mean())"
   ]
  },
  {
   "cell_type": "markdown",
   "metadata": {},
   "source": [
    "Calcular los valores mínimo y máximo de un objeto serie"
   ]
  },
  {
   "cell_type": "code",
   "execution_count": 98,
   "metadata": {},
   "outputs": [
    {
     "name": "stdout",
     "output_type": "stream",
     "text": [
      "[2, 4, 5, 6, 7, 9, 20, 41]\n",
      "2\n",
      "100\n"
     ]
    }
   ],
   "source": [
    "datosTres = [2, 4, 5, 6, 7, 9, 20, 41]\n",
    "serieCinco = pd.Series(datosDos)\n",
    "\n",
    "# Objeto Serie\n",
    "print(datosTres)\n",
    "\n",
    "# Valor minimo\n",
    "print(serieCinco.min())\n",
    "\n",
    "# Valor maximo\n",
    "print(serieCinco.max())"
   ]
  },
  {
   "cell_type": "markdown",
   "metadata": {},
   "source": [
    "Obtener estadisticas basicas de un ovjeto serie"
   ]
  },
  {
   "cell_type": "code",
   "execution_count": 103,
   "metadata": {},
   "outputs": [
    {
     "data": {
      "text/plain": [
       "count    15.000000\n",
       "mean      7.000000\n",
       "std       4.472136\n",
       "min       0.000000\n",
       "25%       3.500000\n",
       "50%       7.000000\n",
       "75%      10.500000\n",
       "max      14.000000\n",
       "dtype: float64"
      ]
     },
     "execution_count": 103,
     "metadata": {},
     "output_type": "execute_result"
    }
   ],
   "source": [
    "datosCuatro = list(range(15))\n",
    "serieSeis = pd.Series(datosCuatro)\n",
    "\n",
    "#Estadisticas basicas\n",
    "serieSeis.describe()"
   ]
  },
  {
   "cell_type": "markdown",
   "metadata": {},
   "source": [
    "Obtener los elementos pares e impares ee un objeto serie"
   ]
  },
  {
   "cell_type": "code",
   "execution_count": 115,
   "metadata": {},
   "outputs": [
    {
     "name": "stdout",
     "output_type": "stream",
     "text": [
      "0      0\n",
      "2      2\n",
      "4      4\n",
      "6      6\n",
      "8      8\n",
      "10    10\n",
      "12    12\n",
      "14    14\n",
      "dtype: int64\n",
      "1      1\n",
      "3      3\n",
      "5      5\n",
      "7      7\n",
      "9      9\n",
      "11    11\n",
      "13    13\n",
      "dtype: int64\n"
     ]
    }
   ],
   "source": [
    "datosSeis = list(range(15))\n",
    "serieSiete = pd.Series(datosSeis)\n",
    "\n",
    "# Objeto serie\n",
    "#print(serieSeis)\n",
    "\n",
    "# Buscar valores pares de un objeto serie\n",
    "pares = serieSiete[serieSiete % 2 == 0]\n",
    "print( pares)\n",
    "\n",
    "# Elementos impares:\n",
    "impares = serieSiete[serieSiete % 2 == 1]\n",
    "print(impares)"
   ]
  },
  {
   "cell_type": "markdown",
   "metadata": {},
   "source": [
    "Extraer los datos de un objeto serie como objeto Numpy"
   ]
  },
  {
   "cell_type": "code",
   "execution_count": 124,
   "metadata": {},
   "outputs": [
    {
     "name": "stdout",
     "output_type": "stream",
     "text": [
      "[0, 1, 2, 3, 4, 5, 6, 7, 8, 9, 10, 11, 12, 13, 14]\n",
      "<class 'pandas.core.series.Series'>\n",
      "[ 0  1  2  3  4  5  6  7  8  9 10 11 12 13 14]\n",
      "<class 'numpy.ndarray'>\n"
     ]
    },
    {
     "data": {
      "text/plain": [
       "array([ 0,  1,  2,  3,  4,  5,  6,  7,  8,  9, 10, 11, 12, 13, 14],\n",
       "      dtype=int64)"
      ]
     },
     "execution_count": 124,
     "metadata": {},
     "output_type": "execute_result"
    }
   ],
   "source": [
    "# Creamos una lista como objeto \n",
    "datosSiete = list(range(15))\n",
    "print(datosSiete)\n",
    "\n",
    "# Creamos un arreglo de tipo serie\n",
    "objetoSerie = pd.Series(datosSiete)\n",
    "print(type(objetoSerie))\n",
    "\n",
    "# Convertimos el objeto serie a una arreglo numpy\n",
    "objetoNumpy = objetoSerie.values  # Con el value al final de puede pasar a numpy\n",
    "print(objetoNumpy)\n",
    "print(type(objetoNumpy))\n",
    "objetoNumpy\n",
    "\n"
   ]
  },
  {
   "cell_type": "markdown",
   "metadata": {},
   "source": [
    " Comprobar si una Serie contiene Valores NaN con hasnans"
   ]
  },
  {
   "cell_type": "code",
   "execution_count": 140,
   "metadata": {},
   "outputs": [
    {
     "name": "stdout",
     "output_type": "stream",
     "text": [
      "0    False\n",
      "1    False\n",
      "2    False\n",
      "3    False\n",
      "4     True\n",
      "dtype: bool\n",
      "0     True\n",
      "1     True\n",
      "2     True\n",
      "3     True\n",
      "4    False\n",
      "dtype: bool\n",
      "True\n",
      "0      NaN\n",
      "1     30.0\n",
      "2     20.0\n",
      "3    100.0\n",
      "4      NaN\n",
      "dtype: float64\n"
     ]
    }
   ],
   "source": [
    "datosCinco = ['Python', '30', '20', 100, None]\n",
    "serieOcho = pd.Series(datosCinco)\n",
    "\n",
    "# Busca si hay valores boleanos, si hay devuelve true y si no hay flase\n",
    "print(serieOcho.isna())\n",
    "\n",
    "# Busca si hay valores booleanos, si hay devuelve false y si no deuvle true\n",
    "print(serieOcho.notna())\n",
    "\n",
    "# Verificar con hasnans. Comprueba si POR LO MENOS un valor en la serie tiene\n",
    "# un valor de tipos NaN\n",
    "print(serieOcho.hasnans)\n",
    "\n",
    "# Convertimos la lista a valores numeros y dado el caso quen o pueda lo coloque como NaN\n",
    "serieOcho = pd.to_numeric(serieOcho, errors='coerce')\n",
    "print(serieOcho)\n"
   ]
  },
  {
   "cell_type": "markdown",
   "metadata": {},
   "source": [
    "Obtener el tamaño en bytes del espacio que ocupan los elementos de un objeto series"
   ]
  },
  {
   "cell_type": "code",
   "execution_count": 143,
   "metadata": {},
   "outputs": [
    {
     "name": "stdout",
     "output_type": "stream",
     "text": [
      "0    0\n",
      "1    1\n",
      "2    2\n",
      "3    3\n",
      "4    4\n",
      "5    5\n",
      "6    6\n",
      "7    7\n",
      "8    8\n",
      "9    9\n",
      "dtype: int64\n"
     ]
    },
    {
     "data": {
      "text/plain": [
       "80"
      ]
     },
     "execution_count": 143,
     "metadata": {},
     "output_type": "execute_result"
    }
   ],
   "source": [
    "datosOcho = list(range(10))\n",
    "serieNueve = pd.Series(datosOcho)\n",
    "\n",
    "# Objeto serie\n",
    "print(serieNueve) \n",
    "\n",
    "# tamaño en bytes. Cada elemento una un cierto numero de bytes de todo el elemnte\n",
    "serieNueve.nbytes"
   ]
  },
  {
   "cell_type": "markdown",
   "metadata": {},
   "source": [
    "Usas los metodos add, substracm multiply y divide"
   ]
  },
  {
   "cell_type": "code",
   "execution_count": 152,
   "metadata": {},
   "outputs": [
    {
     "name": "stdout",
     "output_type": "stream",
     "text": [
      "0    1\n",
      "1    2\n",
      "2    3\n",
      "3    4\n",
      "4    5\n",
      "5    6\n",
      "6    7\n",
      "7    8\n",
      "8    9\n",
      "dtype: int64\n",
      "0    10\n",
      "1     9\n",
      "2     8\n",
      "3     7\n",
      "4     6\n",
      "5     5\n",
      "6     4\n",
      "7     3\n",
      "8     2\n",
      "9     1\n",
      "dtype: int64\n"
     ]
    }
   ],
   "source": [
    "serieDies = pd.Series(list(range(1, 10)))\n",
    "serieOnce = pd.Series(list(range(10, 0, -1)))\n",
    "\n",
    "# Series\n",
    "print(serieDies)\n",
    "print(serieOnce)"
   ]
  },
  {
   "cell_type": "code",
   "execution_count": 154,
   "metadata": {},
   "outputs": [
    {
     "name": "stdout",
     "output_type": "stream",
     "text": [
      "0    11.0\n",
      "1    11.0\n",
      "2    11.0\n",
      "3    11.0\n",
      "4    11.0\n",
      "5    11.0\n",
      "6    11.0\n",
      "7    11.0\n",
      "8    11.0\n",
      "9     NaN\n",
      "dtype: float64\n"
     ]
    }
   ],
   "source": [
    "# Usamos el add\n",
    "print(serieDies.add(serieOnce))"
   ]
  },
  {
   "cell_type": "code",
   "execution_count": 155,
   "metadata": {},
   "outputs": [
    {
     "name": "stdout",
     "output_type": "stream",
     "text": [
      "0   -9.0\n",
      "1   -7.0\n",
      "2   -5.0\n",
      "3   -3.0\n",
      "4   -1.0\n",
      "5    1.0\n",
      "6    3.0\n",
      "7    5.0\n",
      "8    7.0\n",
      "9    NaN\n",
      "dtype: float64\n"
     ]
    }
   ],
   "source": [
    "# Usamos substract\n",
    "print(serieDies.subtract(serieOnce))"
   ]
  },
  {
   "cell_type": "code",
   "execution_count": 156,
   "metadata": {},
   "outputs": [
    {
     "name": "stdout",
     "output_type": "stream",
     "text": [
      "0    0.100000\n",
      "1    0.222222\n",
      "2    0.375000\n",
      "3    0.571429\n",
      "4    0.833333\n",
      "5    1.200000\n",
      "6    1.750000\n",
      "7    2.666667\n",
      "8    4.500000\n",
      "9         NaN\n",
      "dtype: float64\n"
     ]
    }
   ],
   "source": [
    "#Usamos divide\n",
    "print(serieDies.divide(serieOnce))"
   ]
  },
  {
   "cell_type": "markdown",
   "metadata": {},
   "source": [
    "Eliminar los valor NaN de una serie con el Método dropna"
   ]
  },
  {
   "cell_type": "code",
   "execution_count": 164,
   "metadata": {},
   "outputs": [
    {
     "name": "stdout",
     "output_type": "stream",
     "text": [
      "0    Python\n",
      "1        30\n",
      "2        20\n",
      "3       100\n",
      "4      None\n",
      "5       NaN\n",
      "dtype: object\n",
      "0      NaN\n",
      "1     30.0\n",
      "2     20.0\n",
      "3    100.0\n",
      "4      NaN\n",
      "5      NaN\n",
      "dtype: float64\n",
      "1     30.0\n",
      "2     20.0\n",
      "3    100.0\n",
      "dtype: float64\n"
     ]
    }
   ],
   "source": [
    "datosNueve = ['Python', '30', '20', 100, None, np.nan]\n",
    "serieDoce = pd.Series(datosNueve)\n",
    "\n",
    "#Mostramos el objeto serie\n",
    "print(serieDoce)\n",
    "\n",
    "# Los que no se pueden covertir a numeros los colocar como NaN y los elimina \n",
    "serieDoce = pd.to_numeric(serieDoce, errors='coerce')\n",
    "print(serieDoce)\n",
    "\n",
    "# Mostramos la nueva serie con los datos eliminado con dropna\n",
    "print(serieDoce.dropna())"
   ]
  },
  {
   "cell_type": "markdown",
   "metadata": {},
   "source": [
    "Calcular el valor absoluto de todos los elementos de un bojeto series"
   ]
  },
  {
   "cell_type": "code",
   "execution_count": 166,
   "metadata": {},
   "outputs": [
    {
     "name": "stdout",
     "output_type": "stream",
     "text": [
      "0    3\n",
      "1    5\n",
      "2    1\n",
      "3    8\n",
      "4    3\n",
      "5    7\n",
      "dtype: int64\n"
     ]
    }
   ],
   "source": [
    "datosDies = [3, -5, 1, -8, 3, -7]\n",
    "serieTrece = pd.Series(datosDies)\n",
    "\n",
    "# Valores abosluto\n",
    "print(serieTrece.abs())"
   ]
  },
  {
   "cell_type": "markdown",
   "metadata": {},
   "source": [
    "Usar la funcion agg de un objeto series"
   ]
  },
  {
   "cell_type": "code",
   "execution_count": 174,
   "metadata": {},
   "outputs": [
    {
     "name": "stdout",
     "output_type": "stream",
     "text": [
      "0    3\n",
      "1   -5\n",
      "2    1\n",
      "3   -8\n",
      "4    3\n",
      "5   -7\n",
      "dtype: int64\n"
     ]
    }
   ],
   "source": [
    "from math import sqrt\n",
    "datosOnce = [3, -5, 1, -8, 3, -7]\n",
    "serieCatorce = pd.Series(datosOnce)\n",
    "# Msotramos la serie\n",
    "print(serieCatorce)"
   ]
  },
  {
   "cell_type": "code",
   "execution_count": 189,
   "metadata": {},
   "outputs": [
    {
     "data": {
      "text/plain": [
       "3"
      ]
     },
     "execution_count": 189,
     "metadata": {},
     "output_type": "execute_result"
    }
   ],
   "source": [
    "# Pasamos el valor mayor del objeto serie.\n",
    "serieCatorce.agg(max)"
   ]
  },
  {
   "cell_type": "code",
   "execution_count": 190,
   "metadata": {},
   "outputs": [
    {
     "data": {
      "text/plain": [
       "-8"
      ]
     },
     "execution_count": 190,
     "metadata": {},
     "output_type": "execute_result"
    }
   ],
   "source": [
    "# Valos minimo de el objeto serie\n",
    "serieCatorce.agg(min)"
   ]
  },
  {
   "cell_type": "code",
   "execution_count": 191,
   "metadata": {},
   "outputs": [
    {
     "data": {
      "text/plain": [
       "0    3\n",
       "1    5\n",
       "2    1\n",
       "3    8\n",
       "4    3\n",
       "5    7\n",
       "dtype: int64"
      ]
     },
     "execution_count": 191,
     "metadata": {},
     "output_type": "execute_result"
    }
   ],
   "source": [
    "# Valor abosluto de cada elemento\n",
    "serieCatorce.agg(abs)"
   ]
  },
  {
   "cell_type": "code",
   "execution_count": 192,
   "metadata": {},
   "outputs": [
    {
     "data": {
      "text/plain": [
       "0    1.732051\n",
       "1    2.236068\n",
       "2    1.000000\n",
       "3    2.828427\n",
       "4    1.732051\n",
       "5    2.645751\n",
       "dtype: float64"
      ]
     },
     "execution_count": 192,
     "metadata": {},
     "output_type": "execute_result"
    }
   ],
   "source": [
    "# A cada valor aboluto de un numero le sacamos la raiz cuadrada\n",
    "serieCatorce.agg(abs).agg(sqrt)"
   ]
  },
  {
   "cell_type": "code",
   "execution_count": 193,
   "metadata": {},
   "outputs": [
    {
     "data": {
      "text/plain": [
       "0    0x3\n",
       "1    0x5\n",
       "2    0x1\n",
       "3    0x8\n",
       "4    0x3\n",
       "5    0x7\n",
       "dtype: object"
      ]
     },
     "execution_count": 193,
     "metadata": {},
     "output_type": "execute_result"
    }
   ],
   "source": [
    "serieCatorce.agg(abs).agg(hex)  # Valores hexadecimales"
   ]
  },
  {
   "cell_type": "code",
   "execution_count": 194,
   "metadata": {},
   "outputs": [
    {
     "data": {
      "text/plain": [
       "0     9\n",
       "1    25\n",
       "2     1\n",
       "3    64\n",
       "4     9\n",
       "5    49\n",
       "dtype: int64"
      ]
     },
     "execution_count": 194,
     "metadata": {},
     "output_type": "execute_result"
    }
   ],
   "source": [
    "def cuadrado(x):\n",
    "    return x * x\n",
    "\n",
    "serieCatorce.agg(cuadrado)  # Pasamos cada elemento y lo multiplicamos por el mismo"
   ]
  },
  {
   "cell_type": "code",
   "execution_count": 195,
   "metadata": {},
   "outputs": [
    {
     "data": {
      "text/plain": [
       "0     27\n",
       "1   -125\n",
       "2      1\n",
       "3   -512\n",
       "4     27\n",
       "5   -343\n",
       "dtype: int64"
      ]
     },
     "execution_count": 195,
     "metadata": {},
     "output_type": "execute_result"
    }
   ],
   "source": [
    "serieCatorce.agg(lambda x: x ** 3)  # Todos a la 3"
   ]
  },
  {
   "cell_type": "code",
   "execution_count": 196,
   "metadata": {},
   "outputs": [
    {
     "data": {
      "text/plain": [
       "0    0.141120\n",
       "1    0.958924\n",
       "2    0.841471\n",
       "3   -0.989358\n",
       "4    0.141120\n",
       "5   -0.656987\n",
       "dtype: float64"
      ]
     },
     "execution_count": 196,
     "metadata": {},
     "output_type": "execute_result"
    }
   ],
   "source": [
    "serieCatorce.agg(np.sin)  # Seno de cada elemento"
   ]
  },
  {
   "cell_type": "code",
   "execution_count": 197,
   "metadata": {},
   "outputs": [
    {
     "data": {
      "text/plain": [
       "0    1.442250\n",
       "1   -1.709976\n",
       "2    1.000000\n",
       "3   -2.000000\n",
       "4    1.442250\n",
       "5   -1.912931\n",
       "dtype: float64"
      ]
     },
     "execution_count": 197,
     "metadata": {},
     "output_type": "execute_result"
    }
   ],
   "source": [
    "serieCatorce.agg(np.cbrt)  # Raiz cubica de cada elemento"
   ]
  },
  {
   "cell_type": "code",
   "execution_count": 199,
   "metadata": {},
   "outputs": [
    {
     "data": {
      "text/plain": [
       "-13"
      ]
     },
     "execution_count": 199,
     "metadata": {},
     "output_type": "execute_result"
    }
   ],
   "source": [
    "serieCatorce.agg(np.sum)  # sumatoria de todo el arreglo pnadas."
   ]
  },
  {
   "cell_type": "code",
   "execution_count": 214,
   "metadata": {},
   "outputs": [
    {
     "data": {
      "text/plain": [
       "array([1.])"
      ]
     },
     "execution_count": 214,
     "metadata": {},
     "output_type": "execute_result"
    }
   ],
   "source": [
    "array = np.ones()\n",
    "array\n",
    "\n"
   ]
  },
  {
   "cell_type": "code",
   "execution_count": 216,
   "metadata": {},
   "outputs": [
    {
     "name": "stdout",
     "output_type": "stream",
     "text": [
      "0    1\n",
      "1    2\n",
      "2    3\n",
      "3    4\n",
      "dtype: int64\n",
      "0    False\n",
      "1    False\n",
      "2    False\n",
      "3    False\n",
      "dtype: bool\n"
     ]
    }
   ],
   "source": [
    "ejemplo = [1, 2, 3, 4]\n",
    "s = pd.Series(ejemplo)\n",
    "print(s)\n",
    "print(s.isnull())\n"
   ]
  },
  {
   "cell_type": "code",
   "execution_count": 225,
   "metadata": {},
   "outputs": [
    {
     "data": {
      "text/plain": [
       "4"
      ]
     },
     "execution_count": 225,
     "metadata": {},
     "output_type": "execute_result"
    }
   ],
   "source": [
    "arr = np.array([1, 2, 3, 4, 7])\n",
    "arr.des\n"
   ]
  },
  {
   "cell_type": "code",
   "execution_count": null,
   "metadata": {},
   "outputs": [],
   "source": []
  }
 ],
 "metadata": {
  "kernelspec": {
   "display_name": "Python 3",
   "language": "python",
   "name": "python3"
  },
  "language_info": {
   "codemirror_mode": {
    "name": "ipython",
    "version": 3
   },
   "file_extension": ".py",
   "mimetype": "text/x-python",
   "name": "python",
   "nbconvert_exporter": "python",
   "pygments_lexer": "ipython3",
   "version": "3.11.3"
  }
 },
 "nbformat": 4,
 "nbformat_minor": 2
}
