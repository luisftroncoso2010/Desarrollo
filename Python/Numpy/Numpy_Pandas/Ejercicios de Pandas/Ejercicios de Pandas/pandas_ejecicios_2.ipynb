{
 "cells": [
  {
   "cell_type": "code",
   "execution_count": 3,
   "metadata": {},
   "outputs": [],
   "source": [
    "import pandas as pd\n",
    "import numpy as np"
   ]
  },
  {
   "cell_type": "code",
   "execution_count": 21,
   "metadata": {},
   "outputs": [
    {
     "name": "stdout",
     "output_type": "stream",
     "text": [
      "0     1.0\n",
      "1     3.0\n",
      "2     7.0\n",
      "3    11.0\n",
      "4     NaN\n",
      "5     0.5\n",
      "6     NaN\n",
      "dtype: float64\n",
      "0     1.0\n",
      "1     3.0\n",
      "2     7.0\n",
      "3    11.0\n",
      "4     0.0\n",
      "5     0.5\n",
      "6     0.0\n",
      "dtype: float64\n"
     ]
    }
   ],
   "source": [
    "datos = [1, 3, 7, 11, 'Python', '0.5', np.nan]\n",
    "serie = pd.Series(datos)\n",
    "\n",
    "# Pasar los elementos que no sean nulos los pasamos a \n",
    "serieConvertida = pd.to_numeric(serie, 'coerce')  # covierte los datos a numeros y si no no dejammos de manera NaN\n",
    "print(serieConvertida)\n",
    "\n",
    "# Cambiamos los valores de NaN a 0. \n",
    "print(serieConvertida.fillna(0))"
   ]
  },
  {
   "cell_type": "markdown",
   "metadata": {},
   "source": [
    "Usar Operadores Relacionales con Métodos de la clase Series"
   ]
  },
  {
   "cell_type": "code",
   "execution_count": 22,
   "metadata": {},
   "outputs": [
    {
     "name": "stdout",
     "output_type": "stream",
     "text": [
      "0    False\n",
      "1    False\n",
      "2     True\n",
      "3    False\n",
      "4    False\n",
      "dtype: bool\n",
      "0     True\n",
      "1     True\n",
      "2    False\n",
      "3     True\n",
      "4     True\n",
      "dtype: bool\n",
      "0    False\n",
      "1    False\n",
      "2    False\n",
      "3     True\n",
      "4     True\n",
      "dtype: bool\n",
      "0     True\n",
      "1     True\n",
      "2    False\n",
      "3    False\n",
      "4    False\n",
      "dtype: bool\n",
      "0    False\n",
      "1    False\n",
      "2     True\n",
      "3     True\n",
      "4     True\n",
      "dtype: bool\n",
      "0    False\n",
      "1    False\n",
      "2     True\n",
      "3     True\n",
      "4     True\n",
      "dtype: bool\n"
     ]
    }
   ],
   "source": [
    "serie1 = pd.Series([1, 2, 3, 4, 5])\n",
    "serie2 = pd.Series([5, 4, 3, 2, 1])\n",
    "\n",
    "# Usamos los operedores relacionadles de pnadas\n",
    "print(serie1.eq(serie2))  # Diferente de \n",
    "print(serie1.ne(serie2)) # Diferente de\n",
    "print(serie1.gt(serie2))  # mayor que\n",
    "print(serie1.lt(serie2))  # Menos que \n",
    "print(serie1.ge(serie2))  # Operador igual. \n",
    "print(serie2.le(serie1))  # operador menor o igual que"
   ]
  },
  {
   "cell_type": "markdown",
   "metadata": {},
   "source": [
    "Obtener los Primeros y Últimos n Elementos de un Objeto Series\n"
   ]
  },
  {
   "cell_type": "code",
   "execution_count": 30,
   "metadata": {},
   "outputs": [
    {
     "name": "stdout",
     "output_type": "stream",
     "text": [
      "0      1\n",
      "1      2\n",
      "2      3\n",
      "3      4\n",
      "4      5\n",
      "      ..\n",
      "94    95\n",
      "95    96\n",
      "96    97\n",
      "97    98\n",
      "98    99\n",
      "Length: 99, dtype: int64\n",
      "0    1\n",
      "1    2\n",
      "2    3\n",
      "3    4\n",
      "4    5\n",
      "dtype: int64\n",
      "94    95\n",
      "95    96\n",
      "96    97\n",
      "97    98\n",
      "98    99\n",
      "dtype: int64\n"
     ]
    }
   ],
   "source": [
    "serie3 = pd.Series(range(1, 100))\n",
    "print(serie3)\n",
    "\n",
    "# Mostramos los primeros elementos\n",
    "print(serie3.head(5))\n",
    "\n",
    "# Msotramos los ultimos elenentos\n",
    "print(serie3.tail(5))\n",
    "\n",
    "\n"
   ]
  },
  {
   "cell_type": "markdown",
   "metadata": {},
   "source": [
    "Usar la Función where de la Clase Series"
   ]
  },
  {
   "cell_type": "code",
   "execution_count": 35,
   "metadata": {},
   "outputs": [
    {
     "name": "stdout",
     "output_type": "stream",
     "text": [
      "0    1\n",
      "1    2\n",
      "2    3\n",
      "3    4\n",
      "4    5\n",
      "dtype: int64\n",
      "0    NaN\n",
      "1    2.0\n",
      "2    3.0\n",
      "3    4.0\n",
      "4    5.0\n",
      "dtype: float64\n",
      "0    0\n",
      "1    2\n",
      "2    3\n",
      "3    4\n",
      "4    5\n",
      "dtype: int64\n"
     ]
    }
   ],
   "source": [
    "serie4 = pd.Series(list(range(1, 6)))\n",
    "\n",
    "# Mostramos la serie\n",
    "print(serie4)\n",
    "\n",
    "# Usamos la clausa where\n",
    "print(serie4.where(serie4 > 1))  # Lso que no cumplen la condicion queda como NAN\n",
    "\n",
    "# si no cumple la condicion lo pasamos a 0\n",
    "print(serie4.where(serie4 > 1, 0))"
   ]
  },
  {
   "cell_type": "markdown",
   "metadata": {},
   "source": [
    "Remover de una Serie los Elementos que no Cumplan una Condición"
   ]
  },
  {
   "cell_type": "code",
   "execution_count": 60,
   "metadata": {},
   "outputs": [
    {
     "name": "stdout",
     "output_type": "stream",
     "text": [
      "0    1\n",
      "1    2\n",
      "2    3\n",
      "3    4\n",
      "4    5\n",
      "5    6\n",
      "6    7\n",
      "7    8\n",
      "8    9\n",
      "dtype: int64\n",
      "0    1\n",
      "1    2\n",
      "2    3\n",
      "3    4\n",
      "dtype: int64\n",
      "4    5.0\n",
      "5    6.0\n",
      "6    7.0\n",
      "7    8.0\n",
      "8    9.0\n",
      "dtype: float64\n"
     ]
    }
   ],
   "source": [
    "serie5 = pd.Series(list(range(1, 10)))\n",
    "\n",
    "# Msotramos la serie\n",
    "print(serie5)\n",
    "\n",
    "print(serie5[serie5 < 5].dropna())\n",
    "# print(serie5)\n",
    "\n",
    "# Usando where dropna\n",
    "print(serie5.where(serie5 >= 5).dropna())"
   ]
  },
  {
   "cell_type": "markdown",
   "metadata": {},
   "source": [
    "Contar los Valores Repetidos en una Serie con value_counts"
   ]
  },
  {
   "cell_type": "code",
   "execution_count": 66,
   "metadata": {},
   "outputs": [
    {
     "name": "stdout",
     "output_type": "stream",
     "text": [
      "0    1\n",
      "1    1\n",
      "2    1\n",
      "3    1\n",
      "4    2\n",
      "5    2\n",
      "6    5\n",
      "7    5\n",
      "8    3\n",
      "9    4\n",
      "dtype: int64\n",
      "1    4\n",
      "2    2\n",
      "5    2\n",
      "3    1\n",
      "4    1\n",
      "Name: count, dtype: int64\n"
     ]
    }
   ],
   "source": [
    "serie6 = pd.Series([1, 1, 1, 1, 2, 2, 5, 5, 3, 4])\n",
    "\n",
    "# Muestra el el objeto serie\n",
    "print(serie6)\n",
    "\n",
    "# Cuenta los objetos repetidos\n",
    "print(serie6.value_counts())\n"
   ]
  },
  {
   "cell_type": "markdown",
   "metadata": {},
   "source": [
    "Generar la Representación JSON de un Objeto Series"
   ]
  },
  {
   "cell_type": "code",
   "execution_count": 68,
   "metadata": {},
   "outputs": [
    {
     "name": "stdout",
     "output_type": "stream",
     "text": [
      "0    1\n",
      "1    1\n",
      "2    1\n",
      "3    1\n",
      "4    2\n",
      "5    2\n",
      "6    5\n",
      "7    5\n",
      "8    3\n",
      "9    4\n",
      "dtype: int64\n",
      "{\"0\":1,\"1\":1,\"2\":1,\"3\":1,\"4\":2,\"5\":2,\"6\":5,\"7\":5,\"8\":3,\"9\":4}\n"
     ]
    }
   ],
   "source": [
    "serie7 = pd.Series([1, 1, 1, 1, 2, 2, 5, 5, 3, 4])\n",
    "print(serie7)\n",
    "\n",
    "# Representacion json\n",
    "print(serie7.to_json())"
   ]
  },
  {
   "cell_type": "markdown",
   "metadata": {},
   "source": [
    "Obtener la Representación de Diccionario de un Objeto Series"
   ]
  },
  {
   "cell_type": "code",
   "execution_count": 73,
   "metadata": {},
   "outputs": [
    {
     "name": "stdout",
     "output_type": "stream",
     "text": [
      "['Perú', 'Francia', 'Rusia', 'Alemania', 'Colombia']\n",
      "{'Perú': 'Lima', 'Francia': 'París', 'Rusia': 'Moscú', 'Alemania': 'Berlin', 'Colombia': 'Bogotá'}\n",
      "<class 'dict'>\n"
     ]
    }
   ],
   "source": [
    "# Creamos las listas. Valores y indices\n",
    "capitales = ['Lima', 'París', 'Moscú', 'Berlin', 'Bogotá']\n",
    "paises = ['Perú', 'Francia', 'Rusia', 'Alemania', 'Colombia']\n",
    "\n",
    "# Creamos el objeto serie a partir de las listas\n",
    "serie8 = pd.Series(capitales, index=paises)\n",
    "print(paises)\n",
    "\n",
    "# Cremaos e objeto diccionario apartir de el objeto serie\n",
    "diccionario = serie8.to_dict()\n",
    "print(diccionario)\n",
    "print(type(diccionario))"
   ]
  },
  {
   "cell_type": "markdown",
   "metadata": {},
   "source": [
    "Obtener la Representación de Diccionario de un Objeto Series"
   ]
  },
  {
   "cell_type": "markdown",
   "metadata": {},
   "source": []
  },
  {
   "cell_type": "code",
   "execution_count": 79,
   "metadata": {},
   "outputs": [
    {
     "data": {
      "text/html": [
       "<div>\n",
       "<style scoped>\n",
       "    .dataframe tbody tr th:only-of-type {\n",
       "        vertical-align: middle;\n",
       "    }\n",
       "\n",
       "    .dataframe tbody tr th {\n",
       "        vertical-align: top;\n",
       "    }\n",
       "\n",
       "    .dataframe thead th {\n",
       "        text-align: right;\n",
       "    }\n",
       "</style>\n",
       "<table border=\"1\" class=\"dataframe\">\n",
       "  <thead>\n",
       "    <tr style=\"text-align: right;\">\n",
       "      <th></th>\n",
       "      <th>0</th>\n",
       "    </tr>\n",
       "  </thead>\n",
       "  <tbody>\n",
       "    <tr>\n",
       "      <th>Perú</th>\n",
       "      <td>Lima</td>\n",
       "    </tr>\n",
       "    <tr>\n",
       "      <th>Francia</th>\n",
       "      <td>París</td>\n",
       "    </tr>\n",
       "    <tr>\n",
       "      <th>Rusia</th>\n",
       "      <td>Moscú</td>\n",
       "    </tr>\n",
       "    <tr>\n",
       "      <th>Alemania</th>\n",
       "      <td>Berlin</td>\n",
       "    </tr>\n",
       "    <tr>\n",
       "      <th>Colombia</th>\n",
       "      <td>Bogotá</td>\n",
       "    </tr>\n",
       "  </tbody>\n",
       "</table>\n",
       "</div>"
      ],
      "text/plain": [
       "               0\n",
       "Perú        Lima\n",
       "Francia    París\n",
       "Rusia      Moscú\n",
       "Alemania  Berlin\n",
       "Colombia  Bogotá"
      ]
     },
     "execution_count": 79,
     "metadata": {},
     "output_type": "execute_result"
    }
   ],
   "source": [
    "# Creamos las listas. Valores y indices\n",
    "capitales2 = ['Lima', 'París', 'Moscú', 'Berlin', 'Bogotá']\n",
    "paises2 = ['Perú', 'Francia', 'Rusia', 'Alemania', 'Colombia']\n",
    "\n",
    "# Creamos el objeto serie a partir de las listas\n",
    "serie9 = pd.Series(capitales, index=paises)\n",
    "\n",
    "# creamos el objeto dataFrame. Opcion 1\n",
    "dfOp1 = pd.DataFrame(serie9)\n",
    "\n",
    "\n",
    "# creamos el objeto dataFrame. Opcion 2\n",
    "dfOp2 = pd.DataFrame(serie9)\n",
    "dfOp2"
   ]
  },
  {
   "cell_type": "markdown",
   "metadata": {},
   "source": [
    "Convertir el Contenido de un Objeto Series en Formato CSV"
   ]
  },
  {
   "cell_type": "code",
   "execution_count": 90,
   "metadata": {},
   "outputs": [
    {
     "name": "stdout",
     "output_type": "stream",
     "text": [
      ",0\n",
      "Perú,Lima\n",
      "Francia,París\n",
      "Rusia,Moscú\n",
      "Alemania,Berlin\n",
      "Colombia,Bogotá\n",
      "\n"
     ]
    }
   ],
   "source": [
    "# Creamos las listas. Valores y indices\n",
    "capitales3 = ['Lima', 'París', 'Moscú', 'Berlin', 'Bogotá']\n",
    "paises3 = ['Perú', 'Francia', 'Rusia', 'Alemania', 'Colombia']\n",
    "\n",
    "serie10 = pd.Series(capitales3, paises3)\n",
    "csv = serie10.to_csv()\n",
    "print(csv)"
   ]
  },
  {
   "cell_type": "markdown",
   "metadata": {},
   "source": [
    " Aplicar una Función Sobre los Valores de un Objeto Series"
   ]
  },
  {
   "cell_type": "code",
   "execution_count": 110,
   "metadata": {},
   "outputs": [
    {
     "name": "stdout",
     "output_type": "stream",
     "text": [
      "Lima      22\n",
      "París     18\n",
      "Moscú     17\n",
      "Berlin    25\n",
      "Bogotá    32\n",
      "dtype: object\n",
      "Lima       484\n",
      "París      324\n",
      "Moscú      289\n",
      "Berlin     625\n",
      "Bogotá    1024\n",
      "dtype: int64\n",
      "Lima       484\n",
      "París      324\n",
      "Moscú      289\n",
      "Berlin     625\n",
      "Bogotá    1024\n",
      "dtype: int64\n",
      "Lima      29\n",
      "París     25\n",
      "Moscú     24\n",
      "Berlin    32\n",
      "Bogotá    39\n",
      "dtype: int64\n",
      "Lima      4.690416\n",
      "París     4.242641\n",
      "Moscú     4.123106\n",
      "Berlin    5.000000\n",
      "Bogotá    5.656854\n",
      "dtype: float64\n"
     ]
    }
   ],
   "source": [
    "from math import sqrt\n",
    "# Creamos las listas. Valores y indices\n",
    "capitales4 = ['Lima', 'París', 'Moscú', 'Berlin', 'Bogotá']\n",
    "paises4 = [22, 18, 17, 25, 32]\n",
    "\n",
    "serie11 = pd.Series(paises4, capitales4)\n",
    "print(serie10)\n",
    "\n",
    "# Creamos la funcion\n",
    "def cuadrado(x):\n",
    "    return x * x\n",
    "\n",
    "# Pasamos la funcion\n",
    "print(serie11.apply(cuadrado))\n",
    "# Con una funcion lambda\n",
    "print(serie11.apply(lambda x : x * x))\n",
    "\n",
    "# Creamos una funcion para aumentar la temperatura\n",
    "def adicionarTemperatura(x, delta):\n",
    "    return x + delta\n",
    "\n",
    "# pasamos la funcion con un argunmento\n",
    "print(serie11.apply(adicionarTemperatura, args=(7,)))\n",
    "\n",
    "# Modulo mat\n",
    "print(serie11.apply(sqrt))\n"
   ]
  },
  {
   "cell_type": "markdown",
   "metadata": {},
   "source": [
    "Encontrar los Elementos que Están Dentro de un Rango con between"
   ]
  },
  {
   "cell_type": "code",
   "execution_count": 129,
   "metadata": {},
   "outputs": [
    {
     "name": "stdout",
     "output_type": "stream",
     "text": [
      "0     False\n",
      "1     False\n",
      "2     False\n",
      "3     False\n",
      "4     False\n",
      "5     False\n",
      "6     False\n",
      "7      True\n",
      "8      True\n",
      "9      True\n",
      "10    False\n",
      "dtype: bool\n",
      "0     False\n",
      "1     False\n",
      "2     False\n",
      "3     False\n",
      "4     False\n",
      "5     False\n",
      "6     False\n",
      "7      True\n",
      "8      True\n",
      "9      True\n",
      "10    False\n",
      "dtype: bool\n",
      "0     False\n",
      "1     False\n",
      "2     False\n",
      "3     False\n",
      "4     False\n",
      "5     False\n",
      "6     False\n",
      "7     False\n",
      "8      True\n",
      "9     False\n",
      "10    False\n",
      "dtype: bool\n"
     ]
    }
   ],
   "source": [
    "datos3  = [22, 18, 17, 25, 32, np.nan, 7, 2, 3, 5, 0]\n",
    "serie12 = pd.Series(datos3)\n",
    "#print(serie12)\n",
    "\n",
    "#Buscar sobre un rango. Opcion 1\n",
    "print(serie12.between(2, 5))\n",
    "\n",
    "# Opcion 2\n",
    "print((2 <= serie12) & (serie12 <= 5))\n",
    "\n",
    "#Opcion 3\n",
    "print(serie12.between(2, 5, inclusive='neither'))\n"
   ]
  },
  {
   "cell_type": "code",
   "execution_count": 126,
   "metadata": {},
   "outputs": [
    {
     "name": "stdout",
     "output_type": "stream",
     "text": [
      "0     False\n",
      "1     False\n",
      "2     False\n",
      "3     False\n",
      "4     False\n",
      "5     False\n",
      "6     False\n",
      "7      True\n",
      "8      True\n",
      "9      True\n",
      "10    False\n",
      "dtype: bool\n",
      "0     False\n",
      "1     False\n",
      "2     False\n",
      "3     False\n",
      "4     False\n",
      "5     False\n",
      "6     False\n",
      "7     False\n",
      "8      True\n",
      "9     False\n",
      "10    False\n",
      "dtype: bool\n"
     ]
    }
   ],
   "source": []
  },
  {
   "cell_type": "code",
   "execution_count": 133,
   "metadata": {},
   "outputs": [
    {
     "data": {
      "text/plain": [
       "0     True\n",
       "1    False\n",
       "2     True\n",
       "3    False\n",
       "4    False\n",
       "dtype: bool"
      ]
     },
     "execution_count": 133,
     "metadata": {},
     "output_type": "execute_result"
    }
   ],
   "source": [
    "# Crear una serie con cadenas de caracteres\n",
    "datos4 = [ 'Ana', 'Alejandra', 'Diana', 'Manuela', 'Sofia']\n",
    "serie13 = pd.Series(datos4)\n",
    "\n",
    "# Buscamos el mecanismo de alfabetico.\n",
    "serie13.between('Alicia', 'Elena')"
   ]
  },
  {
   "cell_type": "code",
   "execution_count": null,
   "metadata": {},
   "outputs": [],
   "source": []
  }
 ],
 "metadata": {
  "kernelspec": {
   "display_name": "Python 3",
   "language": "python",
   "name": "python3"
  },
  "language_info": {
   "codemirror_mode": {
    "name": "ipython",
    "version": 3
   },
   "file_extension": ".py",
   "mimetype": "text/x-python",
   "name": "python",
   "nbconvert_exporter": "python",
   "pygments_lexer": "ipython3",
   "version": "3.11.3"
  }
 },
 "nbformat": 4,
 "nbformat_minor": 2
}
