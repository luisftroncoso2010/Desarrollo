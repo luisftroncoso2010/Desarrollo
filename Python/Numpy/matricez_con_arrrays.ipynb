{
 "cells": [
  {
   "cell_type": "code",
   "execution_count": 23,
   "metadata": {},
   "outputs": [],
   "source": [
    "import pandas as pd"
   ]
  },
  {
   "cell_type": "code",
   "execution_count": 24,
   "metadata": {},
   "outputs": [
    {
     "name": "stdout",
     "output_type": "stream",
     "text": [
      "   2017-01-02 10:30:00  1.0  6.24275379  -75.54836478  Hombre  36  \\\n",
      "0  2017-01-02 10:30:00  1.0    6.242754    -75.548365  Hombre  36   \n",
      "1  2017-01-02 08:30:00  1.0    6.222729    -75.584253  Hombre  22   \n",
      "2  2017-01-03 07:00:00  1.0    6.290452    -75.564608  Hombre  35   \n",
      "3  2017-01-03 07:00:00  1.0    6.290452    -75.564608  Hombre  35   \n",
      "4  2017-01-04 15:00:00  1.0    6.272107    -75.560456  Hombre  26   \n",
      "\n",
      "                Casado(a)  Sin dato Sin dato.1 Sin dato.2  ...   8  \\\n",
      "0               Casado(a)  Sin dato   Sin dato   Sin dato  ...   8   \n",
      "1               Casado(a)  Sin dato   Sin dato   Sin dato  ...  15   \n",
      "2  Unión marital de hecho  Sin dato   Sin dato   Sin dato  ...   5   \n",
      "3  Unión marital de hecho  Sin dato   Sin dato   Sin dato  ...   5   \n",
      "4              Soltero(a)  Sin dato   Sin dato   Sin dato  ...   4   \n",
      "\n",
      "          Vía pública  Villa Hermosa       Peso  \\\n",
      "0         Vía pública  Villa Hermosa    Celular   \n",
      "1         Vía pública          Belén       Peso   \n",
      "2  Estación del Metro       Castilla  Billetera   \n",
      "3  Estación del Metro       Castilla     Cédula   \n",
      "4         Vía pública       Aranjuez    Celular   \n",
      "\n",
      "   Dinero, joyas, piedras preciosas y título valor  Mercancía -1 Sin dato.11  \\\n",
      "0                                       Tecnología  Mercancía -1      Blanco   \n",
      "1  Dinero, joyas, piedras preciosas y título valor  Mercancía -1    Sin dato   \n",
      "2                   Prendas de vestir y accesorios  Mercancía -1    Sin dato   \n",
      "3                                       Documentos  Mercancía -1    Sin dato   \n",
      "4                                       Tecnología  Mercancía -1    Sin dato   \n",
      "\n",
      "  Sin dato.12 Sin dato.13  \n",
      "0    Sin dato    Sin dato  \n",
      "1    Sin dato    Sin dato  \n",
      "2    Sin dato    Sin dato  \n",
      "3    Sin dato    Sin dato  \n",
      "4    Sin dato    Sin dato  \n",
      "\n",
      "[5 rows x 35 columns]\n"
     ]
    }
   ],
   "source": [
    "# Cargar el archivo Parquet\n",
    "df = pd.read_parquet('archivo.parquet')\n",
    "\n",
    "# Mostrar las primeras 5 filas\n",
    "print(df.head())"
   ]
  }
 ],
 "metadata": {
  "kernelspec": {
   "display_name": "Python 3",
   "language": "python",
   "name": "python3"
  },
  "language_info": {
   "codemirror_mode": {
    "name": "ipython",
    "version": 3
   },
   "file_extension": ".py",
   "mimetype": "text/x-python",
   "name": "python",
   "nbconvert_exporter": "python",
   "pygments_lexer": "ipython3",
   "version": "3.11.3"
  }
 },
 "nbformat": 4,
 "nbformat_minor": 2
}
