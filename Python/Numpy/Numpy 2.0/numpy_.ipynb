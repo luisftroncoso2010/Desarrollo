{
 "cells": [
  {
   "cell_type": "markdown",
   "metadata": {},
   "source": [
    "Let´s star with numpy"
   ]
  },
  {
   "cell_type": "code",
   "execution_count": 1,
   "metadata": {},
   "outputs": [],
   "source": [
    "import numpy as np"
   ]
  },
  {
   "cell_type": "code",
   "execution_count": 4,
   "metadata": {},
   "outputs": [
    {
     "data": {
      "text/plain": [
       "array([[8.71925338e-312, 1.05730048e-321, 0.00000000e+000,\n",
       "        0.00000000e+000, 1.89146896e-307, 5.02034658e+175,\n",
       "        4.69911253e-033, 3.24665698e-057],\n",
       "       [2.04028652e+160, 1.48576100e-076, 4.30868404e-033,\n",
       "        4.26309070e-096, 1.12855837e+277, 8.93168725e+271,\n",
       "        7.33723594e+223, 1.70098498e+256],\n",
       "       [5.49109388e-143, 1.06396443e+224, 3.96041428e+246,\n",
       "        1.16318408e-028, 8.70409996e-071, 8.61133746e-043,\n",
       "        8.46734393e+165, 2.62977609e-052],\n",
       "       [2.24151504e+174, 3.36163259e-067, 5.41905470e-067,\n",
       "        2.04375485e-028, 3.93990098e-062, 5.74015544e+180,\n",
       "        1.94919988e-153, 6.79764374e-310]])"
      ]
     },
     "execution_count": 4,
     "metadata": {},
     "output_type": "execute_result"
    }
   ],
   "source": [
    "# Array sin contenido, vacio\n",
    "np.empty((4, 8))"
   ]
  },
  {
   "cell_type": "code",
   "execution_count": 6,
   "metadata": {},
   "outputs": [
    {
     "data": {
      "text/plain": [
       "array([[0., 0., 0., 0., 0., 0., 0., 0.],\n",
       "       [0., 0., 0., 0., 0., 0., 0., 0.],\n",
       "       [0., 0., 0., 0., 0., 0., 0., 0.],\n",
       "       [0., 0., 0., 0., 0., 0., 0., 0.]])"
      ]
     },
     "execution_count": 6,
     "metadata": {},
     "output_type": "execute_result"
    }
   ],
   "source": [
    "# Crear arrays iniciandos en ceros\n",
    "np.zeros((4,8))"
   ]
  },
  {
   "cell_type": "code",
   "execution_count": 7,
   "metadata": {},
   "outputs": [
    {
     "data": {
      "text/plain": [
       "array([[1., 1., 1., 1., 1., 1., 1., 1.],\n",
       "       [1., 1., 1., 1., 1., 1., 1., 1.],\n",
       "       [1., 1., 1., 1., 1., 1., 1., 1.],\n",
       "       [1., 1., 1., 1., 1., 1., 1., 1.]])"
      ]
     },
     "execution_count": 7,
     "metadata": {},
     "output_type": "execute_result"
    }
   ],
   "source": [
    "# Crear arrays inicializados en 1\n",
    "np.ones((4, 8))"
   ]
  },
  {
   "cell_type": "code",
   "execution_count": 9,
   "metadata": {},
   "outputs": [
    {
     "data": {
      "text/plain": [
       "array([[7, 7, 7, 7, 7, 7, 7, 7],\n",
       "       [7, 7, 7, 7, 7, 7, 7, 7],\n",
       "       [7, 7, 7, 7, 7, 7, 7, 7],\n",
       "       [7, 7, 7, 7, 7, 7, 7, 7]])"
      ]
     },
     "execution_count": 9,
     "metadata": {},
     "output_type": "execute_result"
    }
   ],
   "source": [
    "# Creamos un array inicializados en 7\n",
    "np.full((4, 8), 7)"
   ]
  },
  {
   "cell_type": "code",
   "execution_count": 11,
   "metadata": {},
   "outputs": [
    {
     "data": {
      "text/plain": [
       "array([[0.79945354, 0.54148018, 0.49565579, 0.02314464, 0.49040714,\n",
       "        0.977809  , 0.30063502, 0.22481085],\n",
       "       [0.40305065, 0.7714616 , 0.15447863, 0.56393613, 0.08792703,\n",
       "        0.18218154, 0.71020047, 0.16355426],\n",
       "       [0.9415894 , 0.74574814, 0.87062971, 0.37690382, 0.89591204,\n",
       "        0.2968458 , 0.71268186, 0.30962473],\n",
       "       [0.48504807, 0.5370767 , 0.15136635, 0.98297197, 0.20989217,\n",
       "        0.5053443 , 0.46949732, 0.43304721]])"
      ]
     },
     "execution_count": 11,
     "metadata": {},
     "output_type": "execute_result"
    }
   ],
   "source": [
    "# Generamos un arrays con valores aleatorios\n",
    "np.random.rand(4, 8)"
   ]
  },
  {
   "cell_type": "code",
   "execution_count": 23,
   "metadata": {},
   "outputs": [
    {
     "name": "stdout",
     "output_type": "stream",
     "text": [
      "[[6 2 9 6 4 8 9 3]\n",
      " [5 0 6 8 6 6 6 1]\n",
      " [9 1 1 7 5 6 9 1]\n",
      " [4 8 4 5 6 3 1 5]]\n"
     ]
    }
   ],
   "source": [
    "# Generamos un array de valores enteros. De una sola dimension\n",
    "myArray = np.random.randint(0, 10, 32)\n",
    "# Colocamos el array de manera bidimensional. Pasos por referencia\n",
    "myArrayResahpe = np.reshape(myArray, (4,8))\n",
    "print(myArrayResahpe)"
   ]
  },
  {
   "cell_type": "code",
   "execution_count": 24,
   "metadata": {},
   "outputs": [
    {
     "data": {
      "text/plain": [
       "array([7, 7, 7])"
      ]
     },
     "execution_count": 24,
     "metadata": {},
     "output_type": "execute_result"
    }
   ],
   "source": [
    "# Pasar de lista a array\n",
    "np.array([7, 7, 7])"
   ]
  },
  {
   "cell_type": "code",
   "execution_count": 26,
   "metadata": {},
   "outputs": [
    {
     "data": {
      "text/plain": [
       "array([[1, 2, 3, 4, 5, 6, 7, 8],\n",
       "       [1, 2, 3, 4, 5, 6, 7, 8],\n",
       "       [1, 2, 3, 4, 5, 6, 7, 8],\n",
       "       [1, 2, 3, 4, 5, 6, 7, 8]])"
      ]
     },
     "execution_count": 26,
     "metadata": {},
     "output_type": "execute_result"
    }
   ],
   "source": [
    "# Pasar una lista a un array\n",
    "np.array([[1, 2, 3, 4, 5, 6, 7, 8], [1, 2, 3, 4, 5, 6, 7, 8], [1, 2, 3, 4, 5, 6, 7, 8], [1, 2, 3, 4, 5, 6, 7, 8]])"
   ]
  },
  {
   "cell_type": "code",
   "execution_count": 27,
   "metadata": {},
   "outputs": [
    {
     "data": {
      "text/plain": [
       "array([ 0.        ,  0.32258065,  0.64516129,  0.96774194,  1.29032258,\n",
       "        1.61290323,  1.93548387,  2.25806452,  2.58064516,  2.90322581,\n",
       "        3.22580645,  3.5483871 ,  3.87096774,  4.19354839,  4.51612903,\n",
       "        4.83870968,  5.16129032,  5.48387097,  5.80645161,  6.12903226,\n",
       "        6.4516129 ,  6.77419355,  7.09677419,  7.41935484,  7.74193548,\n",
       "        8.06451613,  8.38709677,  8.70967742,  9.03225806,  9.35483871,\n",
       "        9.67741935, 10.        ])"
      ]
     },
     "execution_count": 27,
     "metadata": {},
     "output_type": "execute_result"
    }
   ],
   "source": [
    "# Creacion de array con rangos\n",
    "np.linspace(0, 10, 32)"
   ]
  },
  {
   "cell_type": "code",
   "execution_count": 30,
   "metadata": {},
   "outputs": [
    {
     "data": {
      "text/plain": [
       "(32,)"
      ]
     },
     "execution_count": 30,
     "metadata": {},
     "output_type": "execute_result"
    }
   ],
   "source": [
    "# Buscamos le tamaño del array\n",
    "np.linspace(0, 10, 32).shape"
   ]
  },
  {
   "cell_type": "code",
   "execution_count": 32,
   "metadata": {},
   "outputs": [
    {
     "data": {
      "text/plain": [
       "1"
      ]
     },
     "execution_count": 32,
     "metadata": {},
     "output_type": "execute_result"
    }
   ],
   "source": [
    "# Rando dle array\n",
    "np.linspace(0, 10, 32).ndim"
   ]
  },
  {
   "cell_type": "code",
   "execution_count": 33,
   "metadata": {},
   "outputs": [
    {
     "data": {
      "text/plain": [
       "32"
      ]
     },
     "execution_count": 33,
     "metadata": {},
     "output_type": "execute_result"
    }
   ],
   "source": [
    "# Size del array\n",
    "np.linspace(0, 10, 32).size"
   ]
  },
  {
   "cell_type": "code",
   "execution_count": 35,
   "metadata": {},
   "outputs": [
    {
     "name": "stdout",
     "output_type": "stream",
     "text": [
      "[10 10  8]\n"
     ]
    }
   ],
   "source": [
    "# Bloque de array. Suma de array\n",
    "muyArrayOne = np.array([7, 7, 3])\n",
    "myArrayTwo = np.array([3, 3, 5])\n",
    "print(muyArrayOne + myArrayTwo)"
   ]
  },
  {
   "cell_type": "code",
   "execution_count": 39,
   "metadata": {},
   "outputs": [
    {
     "name": "stdout",
     "output_type": "stream",
     "text": [
      "[[10 10  8]\n",
      " [ 4  5  8]]\n"
     ]
    }
   ],
   "source": [
    "# Bloque de array. Suma de array. De una sola dimensión\n",
    "myArrayThree = np.array([[7, 7, 3], [1, 2, 3]])\n",
    "myArrayFour = np.array([3, 3, 5])\n",
    "print(myArrayThree + myArrayFour)"
   ]
  },
  {
   "cell_type": "code",
   "execution_count": 41,
   "metadata": {},
   "outputs": [
    {
     "data": {
      "text/plain": [
       "5.666666666666667"
      ]
     },
     "execution_count": 41,
     "metadata": {},
     "output_type": "execute_result"
    }
   ],
   "source": [
    "# Obtener la media\n",
    "myArrayFive = np.array([7, 7, 3])\n",
    "myArrayFive.mean()"
   ]
  },
  {
   "cell_type": "code",
   "execution_count": 42,
   "metadata": {},
   "outputs": [
    {
     "data": {
      "text/plain": [
       "17"
      ]
     },
     "execution_count": 42,
     "metadata": {},
     "output_type": "execute_result"
    }
   ],
   "source": [
    "# Suma de los valores de los array\n",
    "myArrayFive.sum()"
   ]
  },
  {
   "cell_type": "code",
   "execution_count": 46,
   "metadata": {},
   "outputs": [
    {
     "name": "stdout",
     "output_type": "stream",
     "text": [
      "13\n"
     ]
    }
   ],
   "source": [
    "# Filtra un array por poscisión dimensional\n",
    "myArraySix = np.array([7, 13, 7])\n",
    "print(myArraySix[1])\n"
   ]
  },
  {
   "cell_type": "code",
   "execution_count": 52,
   "metadata": {},
   "outputs": [
    {
     "name": "stdout",
     "output_type": "stream",
     "text": [
      "2\n"
     ]
    }
   ],
   "source": [
    "# Filtra un array por poscisión bidimensional\n",
    "myArraySeven = np.array([[7, 13, 7], [8, 9, 2]])\n",
    "print(myArraySeven[1, 2])"
   ]
  },
  {
   "cell_type": "code",
   "execution_count": 57,
   "metadata": {},
   "outputs": [
    {
     "data": {
      "text/plain": [
       "array([[15, 13,  7]])"
      ]
     },
     "execution_count": 57,
     "metadata": {},
     "output_type": "execute_result"
    }
   ],
   "source": [
    "# Accediendo con Slicings. Desde 0 hasta 1\n",
    "myArraySeven[0: 1]"
   ]
  },
  {
   "cell_type": "code",
   "execution_count": 58,
   "metadata": {},
   "outputs": [
    {
     "data": {
      "text/plain": [
       "array([[15, 13,  7],\n",
       "       [ 8,  9,  2]])"
      ]
     },
     "execution_count": 58,
     "metadata": {},
     "output_type": "execute_result"
    }
   ],
   "source": [
    "# Desde 0 hasta 2\n",
    "myArraySeven[0: 2]"
   ]
  },
  {
   "cell_type": "code",
   "execution_count": 59,
   "metadata": {},
   "outputs": [
    {
     "data": {
      "text/plain": [
       "array([[15, 13,  7],\n",
       "       [ 8,  9,  2]])"
      ]
     },
     "execution_count": 59,
     "metadata": {},
     "output_type": "execute_result"
    }
   ],
   "source": [
    "# Todos le array\n",
    "myArraySeven[0::]"
   ]
  },
  {
   "cell_type": "code",
   "execution_count": 60,
   "metadata": {},
   "outputs": [
    {
     "data": {
      "text/plain": [
       "array([[15, 13,  7],\n",
       "       [ 8,  9,  2]])"
      ]
     },
     "execution_count": 60,
     "metadata": {},
     "output_type": "execute_result"
    }
   ],
   "source": [
    "# Modificar el valor de una poscisión\n",
    "myArraySeven[0, 0] = 15\n",
    "myArraySeven"
   ]
  },
  {
   "cell_type": "code",
   "execution_count": 61,
   "metadata": {},
   "outputs": [
    {
     "data": {
      "text/plain": [
       "array([ 7, 13,  7,  2,  8,  9])"
      ]
     },
     "execution_count": 61,
     "metadata": {},
     "output_type": "execute_result"
    }
   ],
   "source": [
    "# Pasar de una sola dimensión\n",
    "myArrayEight = np.array([[7, 13, 7], [2, 8, 9]])\n",
    "myArrayEight.ravel()"
   ]
  }
 ],
 "metadata": {
  "kernelspec": {
   "display_name": "Python 3",
   "language": "python",
   "name": "python3"
  },
  "language_info": {
   "codemirror_mode": {
    "name": "ipython",
    "version": 3
   },
   "file_extension": ".py",
   "mimetype": "text/x-python",
   "name": "python",
   "nbconvert_exporter": "python",
   "pygments_lexer": "ipython3",
   "version": "3.11.3"
  }
 },
 "nbformat": 4,
 "nbformat_minor": 2
}
