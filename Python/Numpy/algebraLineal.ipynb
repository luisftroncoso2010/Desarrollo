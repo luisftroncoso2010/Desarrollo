{
 "cells": [
  {
   "cell_type": "code",
   "execution_count": 40,
   "metadata": {},
   "outputs": [],
   "source": [
    "import numpy as np"
   ]
  },
  {
   "cell_type": "code",
   "execution_count": 41,
   "metadata": {},
   "outputs": [
    {
     "name": "stdout",
     "output_type": "stream",
     "text": [
      "[[ 1 -1  2]\n",
      " [ 3  2  0]]\n"
     ]
    }
   ],
   "source": [
    "matrizUno = np.array([[1, -1, 2], [3, 2, 0]])\n",
    "print(matrizUno)"
   ]
  },
  {
   "cell_type": "code",
   "execution_count": 42,
   "metadata": {},
   "outputs": [
    {
     "name": "stdout",
     "output_type": "stream",
     "text": [
      "[[1]\n",
      " [2]\n",
      " [3]]\n"
     ]
    }
   ],
   "source": [
    "matrizDos = np.array([[1], [2], [3]])\n",
    "print(matrizDos)"
   ]
  },
  {
   "cell_type": "code",
   "execution_count": 43,
   "metadata": {},
   "outputs": [
    {
     "name": "stdout",
     "output_type": "stream",
     "text": [
      "[[ 1  3]\n",
      " [-1  2]\n",
      " [ 2  0]]\n"
     ]
    }
   ],
   "source": [
    "# Pasamos de matriz filas a columnas o viceversa\n",
    "print(np.transpose(matrizUno))"
   ]
  },
  {
   "cell_type": "code",
   "execution_count": 44,
   "metadata": {},
   "outputs": [
    {
     "name": "stdout",
     "output_type": "stream",
     "text": [
      "[[1]\n",
      " [2]\n",
      " [3]]\n"
     ]
    }
   ],
   "source": [
    "matrizTres = np.array([[1, 2, 3]])\n",
    "print(np.transpose(matrizTres))"
   ]
  },
  {
   "cell_type": "code",
   "execution_count": 45,
   "metadata": {},
   "outputs": [
    {
     "name": "stdout",
     "output_type": "stream",
     "text": [
      "     Sistemas de ecuciones ejercicio Uno: \n",
      "[[ 2  1 -2]\n",
      " [ 3  0  1]\n",
      " [ 1  1 -1]]\n"
     ]
    }
   ],
   "source": [
    "\"\"\" Sistemas de ecuaciones. Resuelve la ecuación A x = b \"\"\"\n",
    "print('     Sistemas de ecuciones ejercicio Uno: ')\n",
    "a = np.array([[2, 1, -2], [3, 0, 1], [1, 1, -1]])\n",
    "print(a)"
   ]
  },
  {
   "cell_type": "code",
   "execution_count": 46,
   "metadata": {},
   "outputs": [
    {
     "name": "stdout",
     "output_type": "stream",
     "text": [
      "[[-3]\n",
      " [ 5]\n",
      " [-2]]\n"
     ]
    }
   ],
   "source": [
    "b = np.array([[-3], [5], [-2]])\n",
    "print(b)"
   ]
  },
  {
   "cell_type": "code",
   "execution_count": 47,
   "metadata": {},
   "outputs": [
    {
     "name": "stdout",
     "output_type": "stream",
     "text": [
      "[[-3  5 -2]]\n"
     ]
    }
   ],
   "source": [
    "# Transponemos a b\n",
    "print(np.transpose(b))"
   ]
  },
  {
   "cell_type": "code",
   "execution_count": 48,
   "metadata": {},
   "outputs": [
    {
     "name": "stdout",
     "output_type": "stream",
     "text": [
      "[[ 1.]\n",
      " [-1.]\n",
      " [ 2.]]\n"
     ]
    }
   ],
   "source": [
    "# Aca resolvemos el punto de algébra lineal\n",
    "x = np.linalg.solve(a, b)\n",
    "print(x)"
   ]
  },
  {
   "cell_type": "code",
   "execution_count": 49,
   "metadata": {},
   "outputs": [
    {
     "name": "stdout",
     "output_type": "stream",
     "text": [
      "True\n"
     ]
    }
   ],
   "source": [
    "# Validamos si el resultado es correcto no\n",
    "print(np.allclose(np.dot(a, x), b))\n",
    "# El primer elemento es la matriz mas grande, el segundo es el resultado y el tercero la matriz comparada."
   ]
  },
  {
   "cell_type": "code",
   "execution_count": 72,
   "metadata": {},
   "outputs": [
    {
     "name": "stdout",
     "output_type": "stream",
     "text": [
      "     Sistemas de ecuciones ejercicio Dos: \n",
      "[[2 7 3]\n",
      " [2 8 2]\n",
      " [1 3 1]]\n"
     ]
    }
   ],
   "source": [
    "\"\"\" Sistemas de ecuaciones\"\"\"\n",
    "print('     Sistemas de ecuciones ejercicio Dos: ')\n",
    "matrizMUno = np.array([[2, 7, 3], [2, 8, 2], [1, 3, 1]])\n",
    "print(matrizMUno)"
   ]
  },
  {
   "cell_type": "code",
   "execution_count": 73,
   "metadata": {},
   "outputs": [
    {
     "name": "stdout",
     "output_type": "stream",
     "text": [
      "[1 1 0]\n"
     ]
    }
   ],
   "source": [
    "matrizMDos = np.array([1, 1, 0])\n",
    "print(matrizMDos)"
   ]
  },
  {
   "cell_type": "code",
   "execution_count": 74,
   "metadata": {},
   "outputs": [
    {
     "name": "stdout",
     "output_type": "stream",
     "text": [
      "[[1]\n",
      " [1]\n",
      " [0]]\n"
     ]
    }
   ],
   "source": [
    "# Hacemos el cambio de dirección de la matriz\n",
    "matrizMDos.shape=(3, 1)\n",
    "print(matrizMDos)"
   ]
  },
  {
   "cell_type": "code",
   "execution_count": 75,
   "metadata": {},
   "outputs": [],
   "source": [
    "# Resolvemos la ecuación\n",
    "resultados = np.linalg.solve(matrizMUno, matrizMDos)"
   ]
  },
  {
   "cell_type": "code",
   "execution_count": 76,
   "metadata": {},
   "outputs": [
    {
     "name": "stdout",
     "output_type": "stream",
     "text": [
      "True\n"
     ]
    }
   ],
   "source": [
    "# Acá avalamos el resultado\n",
    "print(np.allclose(np.dot(matrizMUno, resultados), matrizMDos))"
   ]
  }
 ],
 "metadata": {
  "kernelspec": {
   "display_name": "Python 3",
   "language": "python",
   "name": "python3"
  },
  "language_info": {
   "codemirror_mode": {
    "name": "ipython",
    "version": 3
   },
   "file_extension": ".py",
   "mimetype": "text/x-python",
   "name": "python",
   "nbconvert_exporter": "python",
   "pygments_lexer": "ipython3",
   "version": "3.11.3"
  }
 },
 "nbformat": 4,
 "nbformat_minor": 2
}
