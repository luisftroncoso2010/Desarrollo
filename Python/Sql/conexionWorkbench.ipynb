{
 "cells": [
  {
   "cell_type": "code",
   "execution_count": 46,
   "metadata": {},
   "outputs": [],
   "source": [
    "# Importamos la librería\n",
    "import mysql.connector\n",
    "import pandas as pd\n",
    "import boto3\n",
    "from io import StringIO"
   ]
  },
  {
   "cell_type": "code",
   "execution_count": 47,
   "metadata": {},
   "outputs": [],
   "source": [
    "# Configurar las credenciales de AWS \n",
    "s3 = boto3.client('s3', aws_access_key_id = '', aws_secret_access_key = '')"
   ]
  },
  {
   "cell_type": "code",
   "execution_count": 48,
   "metadata": {},
   "outputs": [],
   "source": [
    "# Creamos la conexióm de la base de datos\n",
    "conexion = mysql.connector.connect(host ='localhost', user = 'root', password = 'lf123', database = 'departamentos',)"
   ]
  },
  {
   "cell_type": "code",
   "execution_count": 49,
   "metadata": {},
   "outputs": [],
   "source": [
    "# crear el cursor para realizar operaciones en la base de datos\n",
    "cursor = conexion.cursor()"
   ]
  },
  {
   "cell_type": "code",
   "execution_count": 50,
   "metadata": {},
   "outputs": [],
   "source": [
    "# Ejecutar la consulta\n",
    "cursor.execute('select * from sala')"
   ]
  },
  {
   "cell_type": "code",
   "execution_count": 51,
   "metadata": {},
   "outputs": [],
   "source": [
    "# Obtener los resultados de la cunsulta\n",
    "resultados = cursor.fetchall()"
   ]
  },
  {
   "cell_type": "code",
   "execution_count": 52,
   "metadata": {},
   "outputs": [
    {
     "name": "stdout",
     "output_type": "stream",
     "text": [
      "(1, 'Financiero', 1066746231)\n",
      "(1, 'Financiero', 1066749341)\n",
      "(1, 'Financiero', 1066746232)\n",
      "(1, 'Financiero', 1066746233)\n",
      "(2, 'Recursos Humanos', 1066746234)\n",
      "(2, 'Recursos Humanos', 1066746235)\n",
      "(2, 'Recursos Humanos', 1066746236)\n",
      "(2, 'Recursos Humanos', 1066746237)\n",
      "(1, 'Financiero', 1066746238)\n",
      "(2, 'Recursos Humanos', 1066746239)\n",
      "(1, 'Financiero', 1066746242)\n",
      "(3, 'Marketing', 1066746243)\n",
      "(3, 'Marketing', 1066746244)\n",
      "(3, 'Marketing', 1066746245)\n",
      "(1, 'Financiero', 1066746246)\n",
      "(2, 'Recursos Humanos', 1066746247)\n",
      "(1, 'Financiero', 1066746248)\n",
      "(2, 'Recursos Humanos', 1066746250)\n",
      "(1, 'Financiero', 1066746251)\n",
      "(2, 'Recursos Humanos', 1066746252)\n",
      "(1, 'Financiero', 1066746253)\n",
      "(3, 'Marketing', 1066746254)\n",
      "(2, 'Recursos Humanos', 1066746255)\n",
      "(2, 'Recursos Humanos', 1066746256)\n",
      "(2, 'Recursos Humanos', 1066746257)\n",
      "(2, 'Recursos Humanos', 1066746258)\n",
      "(2, 'Recursos Humanos', 1066746259)\n",
      "(2, 'Recursos Humanos', 1066746260)\n",
      "(3, 'Marketing', 1066746261)\n",
      "(2, 'Recursos Humanos', 1066746262)\n",
      "(2, 'Recursos Humanos', 1066746263)\n",
      "(1, 'Financiero', 1066746264)\n",
      "(1, 'Financiero', 1066746265)\n",
      "(2, 'Recursos Humanos', 1066746266)\n",
      "(3, 'Marketing', 1066746267)\n",
      "(2, 'Recursos Humanos', 1066746268)\n",
      "(3, 'Marketing', 1066746269)\n",
      "(1, 'Financiero', 1066746270)\n",
      "(2, 'Recursos Humanos', 1066746271)\n",
      "(1, 'Financiero', 1066746221)\n",
      "(2, 'Recursos Humanos', 1066746273)\n",
      "(1, 'Financiero', 1066746272)\n",
      "(2, 'Recursos Humanos', 1066746274)\n",
      "(1, 'Financiero', 1066746275)\n",
      "(1, 'Financiero', 1066746276)\n",
      "(1, 'Financiero', 1066746277)\n",
      "(1, 'Financiero', 1066746278)\n",
      "(1, 'Financiero', 1066746279)\n"
     ]
    }
   ],
   "source": [
    "# Iteramos los resultados\n",
    "for resul in resultados:\n",
    "    print(resul)"
   ]
  },
  {
   "cell_type": "code",
   "execution_count": 53,
   "metadata": {},
   "outputs": [],
   "source": [
    "# Creamos un Data Frame de pandas a partir de los resultados\n",
    "df = pd.DataFrame(resultados, columns=[desc[0] for desc in cursor.description])"
   ]
  },
  {
   "cell_type": "code",
   "execution_count": 55,
   "metadata": {},
   "outputs": [],
   "source": [
    "# Escribir el dataFrame a un objeto StrionIO\n",
    "csv_buffer = StringIO()\n",
    "df.to_csv(csv_buffer, index=False)"
   ]
  },
  {
   "cell_type": "code",
   "execution_count": 56,
   "metadata": {},
   "outputs": [
    {
     "data": {
      "text/plain": [
       "{'ResponseMetadata': {'RequestId': 'WVJFVFRF16ZAQ8V0',\n",
       "  'HostId': 'iy0IKDo+Uw6fk3K/fWMt0R0NxbFgmRoa5EOkHyhbxsqcFiTE0LrRDyX6SaupEjp5SwD1AoqH84tUwaENySSe9Q==',\n",
       "  'HTTPStatusCode': 200,\n",
       "  'HTTPHeaders': {'x-amz-id-2': 'iy0IKDo+Uw6fk3K/fWMt0R0NxbFgmRoa5EOkHyhbxsqcFiTE0LrRDyX6SaupEjp5SwD1AoqH84tUwaENySSe9Q==',\n",
       "   'x-amz-request-id': 'WVJFVFRF16ZAQ8V0',\n",
       "   'date': 'Fri, 23 Aug 2024 21:22:21 GMT',\n",
       "   'x-amz-server-side-encryption': 'AES256',\n",
       "   'etag': '\"bd309da40565a4806b847faf457b70e7\"',\n",
       "   'server': 'AmazonS3',\n",
       "   'content-length': '0'},\n",
       "  'RetryAttempts': 0},\n",
       " 'ETag': '\"bd309da40565a4806b847faf457b70e7\"',\n",
       " 'ServerSideEncryption': 'AES256'}"
      ]
     },
     "execution_count": 56,
     "metadata": {},
     "output_type": "execute_result"
    }
   ],
   "source": [
    "# Subir el archivo a S3\n",
    "s3.put_object(Body = csv_buffer.getvalue(), Bucket = 'bucketluis2024', Key = 'datoscsv2/sala.csv')"
   ]
  },
  {
   "cell_type": "code",
   "execution_count": 57,
   "metadata": {},
   "outputs": [],
   "source": [
    "# Escribir el DataFrame a un archivo CSV\n",
    "df.to_csv('sala.csv', index=False)"
   ]
  }
 ],
 "metadata": {
  "kernelspec": {
   "display_name": "Python 3",
   "language": "python",
   "name": "python3"
  },
  "language_info": {
   "codemirror_mode": {
    "name": "ipython",
    "version": 3
   },
   "file_extension": ".py",
   "mimetype": "text/x-python",
   "name": "python",
   "nbconvert_exporter": "python",
   "pygments_lexer": "ipython3",
   "version": "3.11.3"
  }
 },
 "nbformat": 4,
 "nbformat_minor": 2
}
