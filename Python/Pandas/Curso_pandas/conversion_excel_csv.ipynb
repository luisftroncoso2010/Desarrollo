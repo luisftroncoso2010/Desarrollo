{
 "cells": [
  {
   "cell_type": "code",
   "execution_count": 20,
   "metadata": {},
   "outputs": [],
   "source": [
    "import pandas as pd\n",
    "import numpy as np"
   ]
  },
  {
   "cell_type": "code",
   "execution_count": 21,
   "metadata": {},
   "outputs": [
    {
     "name": "stdout",
     "output_type": "stream",
     "text": [
      "     NOMBRE  EDAD GENERO      CARRERA  SEMESTRE\n",
      "0      Luis    45      M     Auditoria  Primero\n",
      "1     Luisa    42      F   Informatica  Primero\n",
      "2       Leo    15      M       Derecho   Quinto\n",
      "3   Marcela    35      F   Informatica  Septimo\n",
      "4    Andres    24      M       Derecho  Tercero\n",
      "5       Ana    65      F  Arquitectura  Septimo\n",
      "6  Fernanda    12      F   Infromatica  Primero\n",
      "7     David    45      M      Economia   Noveno\n"
     ]
    }
   ],
   "source": [
    "df = pd.read_csv('./estudiantes.csv')\n",
    "print(df)\n",
    "# Este ejemplo ya lo convertimos desde el propio excel"
   ]
  },
  {
   "cell_type": "markdown",
   "metadata": {},
   "source": [
    "Pasamos de Excel a Csv"
   ]
  },
  {
   "cell_type": "code",
   "execution_count": 24,
   "metadata": {},
   "outputs": [],
   "source": [
    "# Pasar de excel a csv\n",
    "convertir = pd.read_excel('./estudiantes.xlsx')  # Leemos el archivo"
   ]
  },
  {
   "cell_type": "code",
   "execution_count": 25,
   "metadata": {},
   "outputs": [],
   "source": [
    "# Pasamos el archivo a csv\n",
    "convertir.to_csv('./estudiantesDos.csv', index=None, header=True)"
   ]
  },
  {
   "cell_type": "markdown",
   "metadata": {},
   "source": [
    "Usamos el archivo convertido."
   ]
  },
  {
   "cell_type": "code",
   "execution_count": 26,
   "metadata": {},
   "outputs": [
    {
     "data": {
      "text/html": [
       "<div>\n",
       "<style scoped>\n",
       "    .dataframe tbody tr th:only-of-type {\n",
       "        vertical-align: middle;\n",
       "    }\n",
       "\n",
       "    .dataframe tbody tr th {\n",
       "        vertical-align: top;\n",
       "    }\n",
       "\n",
       "    .dataframe thead th {\n",
       "        text-align: right;\n",
       "    }\n",
       "</style>\n",
       "<table border=\"1\" class=\"dataframe\">\n",
       "  <thead>\n",
       "    <tr style=\"text-align: right;\">\n",
       "      <th></th>\n",
       "      <th>NOMBRE</th>\n",
       "      <th>EDAD</th>\n",
       "      <th>GENERO</th>\n",
       "      <th>CARRERA</th>\n",
       "      <th>SEMESTRE</th>\n",
       "    </tr>\n",
       "  </thead>\n",
       "  <tbody>\n",
       "    <tr>\n",
       "      <th>0</th>\n",
       "      <td>Luis</td>\n",
       "      <td>45</td>\n",
       "      <td>M</td>\n",
       "      <td>Auditoria</td>\n",
       "      <td>Primero</td>\n",
       "    </tr>\n",
       "    <tr>\n",
       "      <th>1</th>\n",
       "      <td>Luisa</td>\n",
       "      <td>42</td>\n",
       "      <td>F</td>\n",
       "      <td>Informatica</td>\n",
       "      <td>Primero</td>\n",
       "    </tr>\n",
       "    <tr>\n",
       "      <th>2</th>\n",
       "      <td>Leo</td>\n",
       "      <td>15</td>\n",
       "      <td>M</td>\n",
       "      <td>Derecho</td>\n",
       "      <td>Quinto</td>\n",
       "    </tr>\n",
       "    <tr>\n",
       "      <th>3</th>\n",
       "      <td>Marcela</td>\n",
       "      <td>35</td>\n",
       "      <td>F</td>\n",
       "      <td>Informatica</td>\n",
       "      <td>Septimo</td>\n",
       "    </tr>\n",
       "    <tr>\n",
       "      <th>4</th>\n",
       "      <td>Andres</td>\n",
       "      <td>24</td>\n",
       "      <td>M</td>\n",
       "      <td>Derecho</td>\n",
       "      <td>Tercero</td>\n",
       "    </tr>\n",
       "    <tr>\n",
       "      <th>5</th>\n",
       "      <td>Ana</td>\n",
       "      <td>65</td>\n",
       "      <td>F</td>\n",
       "      <td>Arquitectura</td>\n",
       "      <td>Septimo</td>\n",
       "    </tr>\n",
       "    <tr>\n",
       "      <th>6</th>\n",
       "      <td>Fernanda</td>\n",
       "      <td>12</td>\n",
       "      <td>F</td>\n",
       "      <td>Infromatica</td>\n",
       "      <td>Primero</td>\n",
       "    </tr>\n",
       "    <tr>\n",
       "      <th>7</th>\n",
       "      <td>David</td>\n",
       "      <td>45</td>\n",
       "      <td>M</td>\n",
       "      <td>Economia</td>\n",
       "      <td>Noveno</td>\n",
       "    </tr>\n",
       "  </tbody>\n",
       "</table>\n",
       "</div>"
      ],
      "text/plain": [
       "     NOMBRE  EDAD GENERO      CARRERA  SEMESTRE\n",
       "0      Luis    45      M     Auditoria  Primero\n",
       "1     Luisa    42      F   Informatica  Primero\n",
       "2       Leo    15      M       Derecho   Quinto\n",
       "3   Marcela    35      F   Informatica  Septimo\n",
       "4    Andres    24      M       Derecho  Tercero\n",
       "5       Ana    65      F  Arquitectura  Septimo\n",
       "6  Fernanda    12      F   Infromatica  Primero\n",
       "7     David    45      M      Economia   Noveno"
      ]
     },
     "execution_count": 26,
     "metadata": {},
     "output_type": "execute_result"
    }
   ],
   "source": [
    "dfConvertido = pd.read_csv('./estudiantesDos.csv')\n",
    "dfConvertido"
   ]
  }
 ],
 "metadata": {
  "kernelspec": {
   "display_name": "Python 3",
   "language": "python",
   "name": "python3"
  },
  "language_info": {
   "codemirror_mode": {
    "name": "ipython",
    "version": 3
   },
   "file_extension": ".py",
   "mimetype": "text/x-python",
   "name": "python",
   "nbconvert_exporter": "python",
   "pygments_lexer": "ipython3",
   "version": "3.11.3"
  }
 },
 "nbformat": 4,
 "nbformat_minor": 2
}
