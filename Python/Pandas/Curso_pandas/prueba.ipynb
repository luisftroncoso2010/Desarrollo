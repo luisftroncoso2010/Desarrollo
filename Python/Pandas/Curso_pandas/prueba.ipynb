{
 "cells": [
  {
   "cell_type": "code",
   "execution_count": 4,
   "metadata": {},
   "outputs": [],
   "source": [
    "import pandas as pd"
   ]
  },
  {
   "cell_type": "code",
   "execution_count": 5,
   "metadata": {},
   "outputs": [
    {
     "name": "stdout",
     "output_type": "stream",
     "text": [
      "   Nombre  Edad     Ciudad\n",
      "0     Ana    23     Madrid\n",
      "1    Luis    35  Barcelona\n",
      "2  Carlos    45   Valencia\n"
     ]
    }
   ],
   "source": [
    "# Crear un DataFrame\n",
    "data = {\n",
    "    'Nombre': ['Ana', 'Luis', 'Carlos'],\n",
    "    'Edad': [23, 35, 45],\n",
    "    'Ciudad': ['Madrid', 'Barcelona', 'Valencia']\n",
    "}\n",
    "df = pd.DataFrame(data)\n",
    "\n",
    "# Mostrar el DataFrame\n",
    "print(df)"
   ]
  },
  {
   "cell_type": "code",
   "execution_count": 6,
   "metadata": {},
   "outputs": [
    {
     "name": "stdout",
     "output_type": "stream",
     "text": [
      "   Columna1  Columna2\n",
      "a        10        40\n",
      "b        20        50\n",
      "c        30        60\n"
     ]
    }
   ],
   "source": [
    "serie1 = pd.Series([10, 20, 30], index=['a', 'b', 'c'])\n",
    "serie2 = pd.Series([40, 50, 60], index=['a', 'b', 'c'])\n",
    "\n",
    "df = pd.DataFrame({'Columna1': serie1, 'Columna2': serie2})\n",
    "print(df)\n"
   ]
  }
 ],
 "metadata": {
  "kernelspec": {
   "display_name": "Python 3",
   "language": "python",
   "name": "python3"
  },
  "language_info": {
   "codemirror_mode": {
    "name": "ipython",
    "version": 3
   },
   "file_extension": ".py",
   "mimetype": "text/x-python",
   "name": "python",
   "nbconvert_exporter": "python",
   "pygments_lexer": "ipython3",
   "version": "3.11.3"
  }
 },
 "nbformat": 4,
 "nbformat_minor": 2
}
