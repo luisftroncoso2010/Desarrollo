{
 "cells": [
  {
   "cell_type": "code",
   "execution_count": 18,
   "metadata": {},
   "outputs": [],
   "source": [
    "import pandas as pd\n",
    "import numpy as np"
   ]
  },
  {
   "cell_type": "markdown",
   "metadata": {},
   "source": [
    "Generamos un dataDFrame apartir de un Diccionario"
   ]
  },
  {
   "cell_type": "code",
   "execution_count": 10,
   "metadata": {},
   "outputs": [],
   "source": [
    "data = {\n",
    "    'NOMBRE': ['Maria', 'Jose', 'David', 'Ivan'],\n",
    "    'CARRERA': ['Auditoria', 'Informatica', 'Derecho', 'Idiomas'],\n",
    "    'CORREO': ['sccscac@gmail.com', 'scffd@gmail.com', 'scfsdcg@gmail.com', 'luis@gmail.com']\n",
    "    }"
   ]
  },
  {
   "cell_type": "code",
   "execution_count": 11,
   "metadata": {},
   "outputs": [
    {
     "name": "stdout",
     "output_type": "stream",
     "text": [
      "  NOMBRE      CARRERA             CORREO\n",
      "0  Maria    Auditoria  sccscac@gmail.com\n",
      "1   Jose  Informatica    scffd@gmail.com\n",
      "2  David      Derecho  scfsdcg@gmail.com\n",
      "3   Ivan      Idiomas     luis@gmail.com\n"
     ]
    }
   ],
   "source": [
    "# Creamos el dataFrame apartir del objeto \n",
    "estudiantes = pd.DataFrame(data)\n",
    "print(estudiantes)"
   ]
  },
  {
   "cell_type": "markdown",
   "metadata": {},
   "source": [
    "Generamos el DataFrame a partir de una lista"
   ]
  },
  {
   "cell_type": "code",
   "execution_count": 16,
   "metadata": {},
   "outputs": [],
   "source": [
    "# Creamos el DATAFRAME con dos coloumnas. (Deben tener dos columnas)\n",
    "df = pd.DataFrame([['Maria',  27], ['Luis', 24], ['Ana', 41], ['Rolando', 40]], columns=['NOMBRE', 'EDAD'])"
   ]
  },
  {
   "cell_type": "code",
   "execution_count": 17,
   "metadata": {},
   "outputs": [
    {
     "name": "stdout",
     "output_type": "stream",
     "text": [
      "    NOMBRE  EDAD\n",
      "0    Maria    27\n",
      "1     Luis    24\n",
      "2      Ana    41\n",
      "3  Rolando    40\n"
     ]
    }
   ],
   "source": [
    "print(df)"
   ]
  },
  {
   "cell_type": "markdown",
   "metadata": {},
   "source": [
    "Generamos un dataFrame a partir de un array"
   ]
  },
  {
   "cell_type": "code",
   "execution_count": 20,
   "metadata": {},
   "outputs": [
    {
     "data": {
      "text/html": [
       "<div>\n",
       "<style scoped>\n",
       "    .dataframe tbody tr th:only-of-type {\n",
       "        vertical-align: middle;\n",
       "    }\n",
       "\n",
       "    .dataframe tbody tr th {\n",
       "        vertical-align: top;\n",
       "    }\n",
       "\n",
       "    .dataframe thead th {\n",
       "        text-align: right;\n",
       "    }\n",
       "</style>\n",
       "<table border=\"1\" class=\"dataframe\">\n",
       "  <thead>\n",
       "    <tr style=\"text-align: right;\">\n",
       "      <th></th>\n",
       "      <th>a</th>\n",
       "      <th>b</th>\n",
       "      <th>c</th>\n",
       "    </tr>\n",
       "  </thead>\n",
       "  <tbody>\n",
       "    <tr>\n",
       "      <th>0</th>\n",
       "      <td>1.064707</td>\n",
       "      <td>-0.892412</td>\n",
       "      <td>1.732732</td>\n",
       "    </tr>\n",
       "    <tr>\n",
       "      <th>1</th>\n",
       "      <td>-0.177030</td>\n",
       "      <td>-0.868113</td>\n",
       "      <td>-1.201208</td>\n",
       "    </tr>\n",
       "    <tr>\n",
       "      <th>2</th>\n",
       "      <td>2.173240</td>\n",
       "      <td>-0.593928</td>\n",
       "      <td>0.717312</td>\n",
       "    </tr>\n",
       "    <tr>\n",
       "      <th>3</th>\n",
       "      <td>-0.044562</td>\n",
       "      <td>0.617363</td>\n",
       "      <td>-1.044642</td>\n",
       "    </tr>\n",
       "  </tbody>\n",
       "</table>\n",
       "</div>"
      ],
      "text/plain": [
       "          a         b         c\n",
       "0  1.064707 -0.892412  1.732732\n",
       "1 -0.177030 -0.868113 -1.201208\n",
       "2  2.173240 -0.593928  0.717312\n",
       "3 -0.044562  0.617363 -1.044642"
      ]
     },
     "execution_count": 20,
     "metadata": {},
     "output_type": "execute_result"
    }
   ],
   "source": [
    "# Generamos un DATAFRAME a partir de numeros aleatorios de python\n",
    "dfDos = pd.DataFrame(np.random.randn(4, 3), columns=['a', 'b', 'c'])\n",
    "dfDos"
   ]
  }
 ],
 "metadata": {
  "kernelspec": {
   "display_name": "Python 3",
   "language": "python",
   "name": "python3"
  },
  "language_info": {
   "codemirror_mode": {
    "name": "ipython",
    "version": 3
   },
   "file_extension": ".py",
   "mimetype": "text/x-python",
   "name": "python",
   "nbconvert_exporter": "python",
   "pygments_lexer": "ipython3",
   "version": "3.11.3"
  }
 },
 "nbformat": 4,
 "nbformat_minor": 2
}
